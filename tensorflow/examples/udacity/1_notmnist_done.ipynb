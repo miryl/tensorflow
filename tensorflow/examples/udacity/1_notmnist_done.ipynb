{
 "cells": [
  {
   "cell_type": "markdown",
   "metadata": {
    "colab_type": "text",
    "id": "5hIbr52I7Z7U"
   },
   "source": [
    "Deep Learning\n",
    "=============\n",
    "\n",
    "Assignment 1\n",
    "------------\n",
    "\n",
    "The objective of this assignment is to learn about simple data curation practices, and familiarize you with some of the data we'll be reusing later.\n",
    "\n",
    "This notebook uses the [notMNIST](http://yaroslavvb.blogspot.com/2011/09/notmnist-dataset.html) dataset to be used with python experiments. This dataset is designed to look like the classic [MNIST](http://yann.lecun.com/exdb/mnist/) dataset, while looking a little more like real data: it's a harder task, and the data is a lot less 'clean' than MNIST."
   ]
  },
  {
   "cell_type": "code",
   "execution_count": 1,
   "metadata": {
    "cellView": "both",
    "colab": {
     "autoexec": {
      "startup": false,
      "wait_interval": 0
     }
    },
    "colab_type": "code",
    "collapsed": true,
    "id": "apJbCsBHl-2A"
   },
   "outputs": [],
   "source": [
    "# These are all the modules we'll be using later. Make sure you can import them\n",
    "# before proceeding further.\n",
    "from __future__ import print_function\n",
    "import matplotlib.pyplot as plt\n",
    "import numpy as np\n",
    "import os\n",
    "import sys\n",
    "import tarfile\n",
    "from IPython.display import display, Image\n",
    "from scipy import ndimage\n",
    "from sklearn.linear_model import LogisticRegression\n",
    "from six.moves.urllib.request import urlretrieve\n",
    "from six.moves import cPickle as pickle\n",
    "\n",
    "# Config the matplotlib backend as plotting inline in IPython\n",
    "%matplotlib inline"
   ]
  },
  {
   "cell_type": "markdown",
   "metadata": {
    "colab_type": "text",
    "id": "jNWGtZaXn-5j"
   },
   "source": [
    "First, we'll download the dataset to our local machine. The data consists of characters rendered in a variety of fonts on a 28x28 image. The labels are limited to 'A' through 'J' (10 classes). The training set has about 500k and the testset 19000 labeled examples. Given these sizes, it should be possible to train models quickly on any machine."
   ]
  },
  {
   "cell_type": "code",
   "execution_count": 5,
   "metadata": {
    "cellView": "both",
    "colab": {
     "autoexec": {
      "startup": false,
      "wait_interval": 0
     },
     "output_extras": [
      {
       "item_id": 1
      }
     ]
    },
    "colab_type": "code",
    "collapsed": false,
    "executionInfo": {
     "elapsed": 186058,
     "status": "ok",
     "timestamp": 1444485672507,
     "user": {
      "color": "#1FA15D",
      "displayName": "Vincent Vanhoucke",
      "isAnonymous": false,
      "isMe": true,
      "permissionId": "05076109866853157986",
      "photoUrl": "//lh6.googleusercontent.com/-cCJa7dTDcgQ/AAAAAAAAAAI/AAAAAAAACgw/r2EZ_8oYer4/s50-c-k-no/photo.jpg",
      "sessionId": "2a0a5e044bb03b66",
      "userId": "102167687554210253930"
     },
     "user_tz": 420
    },
    "id": "EYRJ4ICW6-da",
    "outputId": "0d0f85df-155f-4a89-8e7e-ee32df36ec8d"
   },
   "outputs": [
    {
     "name": "stdout",
     "output_type": "stream",
     "text": [
      "Attempting to download: notMNIST_large.tar.gz\n",
      "0%....5%....10%....15%....20%....25%....30%....35%....40%....45%....50%....55%....60%....65%....70%....75%....80%....85%....90%....95%....100%\n",
      "Download Complete!\n",
      "Found and verified /Users/kmi_local/Documents/Work/projects/Udacity/tensorflow/tensorflow/examples/udacity/data/notMNIST_large.tar.gz\n",
      "Attempting to download: notMNIST_small.tar.gz\n",
      "0%....5%....10%....15%....20%....25%....30%....35%....40%....45%....50%....55%....60%....65%....70%....75%....80%....85%....90%....95%....100%\n",
      "Download Complete!\n",
      "Found and verified /Users/kmi_local/Documents/Work/projects/Udacity/tensorflow/tensorflow/examples/udacity/data/notMNIST_small.tar.gz\n"
     ]
    }
   ],
   "source": [
    "url = 'https://commondatastorage.googleapis.com/books1000/'\n",
    "last_percent_reported = None\n",
    "data_root = '/Users/kmi_local/Documents/Work/projects/Udacity/tensorflow/tensorflow/examples/udacity/data' # Change me to store data elsewhere\n",
    "\n",
    "def download_progress_hook(count, blockSize, totalSize):\n",
    "  \"\"\"A hook to report the progress of a download. This is mostly intended for users with\n",
    "  slow internet connections. Reports every 5% change in download progress.\n",
    "  \"\"\"\n",
    "  global last_percent_reported\n",
    "  percent = int(count * blockSize * 100 / totalSize)\n",
    "\n",
    "  if last_percent_reported != percent:\n",
    "    if percent % 5 == 0:\n",
    "      sys.stdout.write(\"%s%%\" % percent)\n",
    "      sys.stdout.flush()\n",
    "    else:\n",
    "      sys.stdout.write(\".\")\n",
    "      sys.stdout.flush()\n",
    "      \n",
    "    last_percent_reported = percent\n",
    "        \n",
    "def maybe_download(filename, expected_bytes, force=False):\n",
    "  \"\"\"Download a file if not present, and make sure it's the right size.\"\"\"\n",
    "  dest_filename = os.path.join(data_root, filename)\n",
    "  if force or not os.path.exists(dest_filename):\n",
    "    print('Attempting to download:', filename) \n",
    "    filename, _ = urlretrieve(url + filename, dest_filename, reporthook=download_progress_hook)\n",
    "    print('\\nDownload Complete!')\n",
    "  statinfo = os.stat(dest_filename)\n",
    "  if statinfo.st_size == expected_bytes:\n",
    "    print('Found and verified', dest_filename)\n",
    "  else:\n",
    "    raise Exception(\n",
    "      'Failed to verify ' + dest_filename + '. Can you get to it with a browser?')\n",
    "  return dest_filename\n",
    "\n",
    "train_filename = maybe_download('notMNIST_large.tar.gz', 247336696)\n",
    "test_filename = maybe_download('notMNIST_small.tar.gz', 8458043)"
   ]
  },
  {
   "cell_type": "markdown",
   "metadata": {
    "colab_type": "text",
    "id": "cC3p0oEyF8QT"
   },
   "source": [
    "Extract the dataset from the compressed .tar.gz file.\n",
    "This should give you a set of directories, labeled A through J."
   ]
  },
  {
   "cell_type": "code",
   "execution_count": 6,
   "metadata": {
    "cellView": "both",
    "colab": {
     "autoexec": {
      "startup": false,
      "wait_interval": 0
     },
     "output_extras": [
      {
       "item_id": 1
      }
     ]
    },
    "colab_type": "code",
    "collapsed": false,
    "executionInfo": {
     "elapsed": 186055,
     "status": "ok",
     "timestamp": 1444485672525,
     "user": {
      "color": "#1FA15D",
      "displayName": "Vincent Vanhoucke",
      "isAnonymous": false,
      "isMe": true,
      "permissionId": "05076109866853157986",
      "photoUrl": "//lh6.googleusercontent.com/-cCJa7dTDcgQ/AAAAAAAAAAI/AAAAAAAACgw/r2EZ_8oYer4/s50-c-k-no/photo.jpg",
      "sessionId": "2a0a5e044bb03b66",
      "userId": "102167687554210253930"
     },
     "user_tz": 420
    },
    "id": "H8CBE-WZ8nmj",
    "outputId": "ef6c790c-2513-4b09-962e-27c79390c762"
   },
   "outputs": [
    {
     "name": "stdout",
     "output_type": "stream",
     "text": [
      "Extracting data for /Users/kmi_local/Documents/Work/projects/Udacity/tensorflow/tensorflow/examples/udacity/data/notMNIST_large. This may take a while. Please wait.\n",
      "['/Users/kmi_local/Documents/Work/projects/Udacity/tensorflow/tensorflow/examples/udacity/data/notMNIST_large/A', '/Users/kmi_local/Documents/Work/projects/Udacity/tensorflow/tensorflow/examples/udacity/data/notMNIST_large/B', '/Users/kmi_local/Documents/Work/projects/Udacity/tensorflow/tensorflow/examples/udacity/data/notMNIST_large/C', '/Users/kmi_local/Documents/Work/projects/Udacity/tensorflow/tensorflow/examples/udacity/data/notMNIST_large/D', '/Users/kmi_local/Documents/Work/projects/Udacity/tensorflow/tensorflow/examples/udacity/data/notMNIST_large/E', '/Users/kmi_local/Documents/Work/projects/Udacity/tensorflow/tensorflow/examples/udacity/data/notMNIST_large/F', '/Users/kmi_local/Documents/Work/projects/Udacity/tensorflow/tensorflow/examples/udacity/data/notMNIST_large/G', '/Users/kmi_local/Documents/Work/projects/Udacity/tensorflow/tensorflow/examples/udacity/data/notMNIST_large/H', '/Users/kmi_local/Documents/Work/projects/Udacity/tensorflow/tensorflow/examples/udacity/data/notMNIST_large/I', '/Users/kmi_local/Documents/Work/projects/Udacity/tensorflow/tensorflow/examples/udacity/data/notMNIST_large/J']\n",
      "Extracting data for /Users/kmi_local/Documents/Work/projects/Udacity/tensorflow/tensorflow/examples/udacity/data/notMNIST_small. This may take a while. Please wait.\n",
      "['/Users/kmi_local/Documents/Work/projects/Udacity/tensorflow/tensorflow/examples/udacity/data/notMNIST_small/A', '/Users/kmi_local/Documents/Work/projects/Udacity/tensorflow/tensorflow/examples/udacity/data/notMNIST_small/B', '/Users/kmi_local/Documents/Work/projects/Udacity/tensorflow/tensorflow/examples/udacity/data/notMNIST_small/C', '/Users/kmi_local/Documents/Work/projects/Udacity/tensorflow/tensorflow/examples/udacity/data/notMNIST_small/D', '/Users/kmi_local/Documents/Work/projects/Udacity/tensorflow/tensorflow/examples/udacity/data/notMNIST_small/E', '/Users/kmi_local/Documents/Work/projects/Udacity/tensorflow/tensorflow/examples/udacity/data/notMNIST_small/F', '/Users/kmi_local/Documents/Work/projects/Udacity/tensorflow/tensorflow/examples/udacity/data/notMNIST_small/G', '/Users/kmi_local/Documents/Work/projects/Udacity/tensorflow/tensorflow/examples/udacity/data/notMNIST_small/H', '/Users/kmi_local/Documents/Work/projects/Udacity/tensorflow/tensorflow/examples/udacity/data/notMNIST_small/I', '/Users/kmi_local/Documents/Work/projects/Udacity/tensorflow/tensorflow/examples/udacity/data/notMNIST_small/J']\n"
     ]
    }
   ],
   "source": [
    "num_classes = 10\n",
    "np.random.seed(133)\n",
    "\n",
    "def maybe_extract(filename, force=False):\n",
    "  root = os.path.splitext(os.path.splitext(filename)[0])[0]  # remove .tar.gz\n",
    "  if os.path.isdir(root) and not force:\n",
    "    # You may override by setting force=True.\n",
    "    print('%s already present - Skipping extraction of %s.' % (root, filename))\n",
    "  else:\n",
    "    print('Extracting data for %s. This may take a while. Please wait.' % root)\n",
    "    tar = tarfile.open(filename)\n",
    "    sys.stdout.flush()\n",
    "    tar.extractall(data_root)\n",
    "    tar.close()\n",
    "  data_folders = [\n",
    "    os.path.join(root, d) for d in sorted(os.listdir(root))\n",
    "    if os.path.isdir(os.path.join(root, d))]\n",
    "  if len(data_folders) != num_classes:\n",
    "    raise Exception(\n",
    "      'Expected %d folders, one per class. Found %d instead.' % (\n",
    "        num_classes, len(data_folders)))\n",
    "  print(data_folders)\n",
    "  return data_folders\n",
    "  \n",
    "train_folders = maybe_extract(train_filename)\n",
    "test_folders = maybe_extract(test_filename)"
   ]
  },
  {
   "cell_type": "markdown",
   "metadata": {
    "colab_type": "text",
    "id": "4riXK3IoHgx6"
   },
   "source": [
    "---\n",
    "Problem 1\n",
    "---------\n",
    "\n",
    "Let's take a peek at some of the data to make sure it looks sensible. Each exemplar should be an image of a character A through J rendered in a different font. Display a sample of the images that we just downloaded. Hint: you can use the package IPython.display.\n",
    "\n",
    "---"
   ]
  },
  {
   "cell_type": "code",
   "execution_count": 25,
   "metadata": {
    "collapsed": false
   },
   "outputs": [
    {
     "data": {
      "image/png": "[encoded data removed]",
      "text/plain": [
       "<IPython.core.display.Image object>"
      ]
     },
     "metadata": {},
     "output_type": "display_data"
    },
    {
     "data": {
      "image/png": "[encoded data removed]",
      "text/plain": [
       "<IPython.core.display.Image object>"
      ]
     },
     "metadata": {},
     "output_type": "display_data"
    },
    {
     "data": {
      "image/png": "[encoded data removed]",
      "text/plain": [
       "<IPython.core.display.Image object>"
      ]
     },
     "metadata": {},
     "output_type": "display_data"
    },
    {
     "data": {
      "image/png": "[encoded data removed]",
      "text/plain": [
       "<IPython.core.display.Image object>"
      ]
     },
     "metadata": {},
     "output_type": "display_data"
    },
    {
     "data": {
      "image/png": "[encoded data removed]",
      "text/plain": [
       "<IPython.core.display.Image object>"
      ]
     },
     "metadata": {},
     "output_type": "display_data"
    },
    {
     "data": {
      "image/png": "[encoded data removed]",
      "text/plain": [
       "<IPython.core.display.Image object>"
      ]
     },
     "metadata": {},
     "output_type": "display_data"
    },
    {
     "data": {
      "image/png": "[encoded data removed]",
      "text/plain": [
       "<IPython.core.display.Image object>"
      ]
     },
     "metadata": {},
     "output_type": "display_data"
    },
    {
     "data": {
      "image/png": "[encoded data removed]",
      "text/plain": [
       "<IPython.core.display.Image object>"
      ]
     },
     "metadata": {},
     "output_type": "display_data"
    },
    {
     "data": {
      "image/png": "[encoded data removed]",
      "text/plain": [
       "<IPython.core.display.Image object>"
      ]
     },
     "metadata": {},
     "output_type": "display_data"
    },
    {
     "data": {
      "image/png": "[encoded data removed]",
      "text/plain": [
       "<IPython.core.display.Image object>"
      ]
     },
     "metadata": {},
     "output_type": "display_data"
    }
   ],
   "source": [
    "from IPython.display import display, Image\n",
    "\n",
    "mypath = '/Users/kmi_local/Documents/Work/projects/Udacity/tensorflow/tensorflow/examples/udacity/data/notMNIST_large/'\n",
    "\n",
    "def display_img_array(file_name_ar):\n",
    "    for el in file_name_ar:\n",
    "        display(Image(filename = el, format='png'))\n",
    "    \n",
    "file_name_ar = [mypath+\"A/a2VhZ2FuLnR0Zg==.png\", mypath+\"B/aG9uZXkgTm9ybWFsLnR0Zg==.png\", \n",
    "               mypath + \"C/aGFua28udHRm.png\", mypath + 'D/a2l0Y2hlbiB0aWxlLnR0Zg==.png',\n",
    "               mypath + 'E/aGVhcnRmb250LnR0Zg==.png', mypath + 'F/a3JvZWdlciAwNV82My50dGY=.png',\n",
    "               mypath + 'G/a2hhcm9uNGFfbWluaS50dGY=.png', mypath + 'H/aG9uZXkgQm9sZC50dGY=.png',\n",
    "               mypath + 'I/aG9tZXdvcmsgc21hcnQudHRm.png', mypath + 'J/a2VhZ2FuLnR0Zg==.png']\n",
    "\n",
    "display_img_array(file_name_ar)"
   ]
  },
  {
   "cell_type": "markdown",
   "metadata": {
    "colab_type": "text",
    "id": "PBdkjESPK8tw"
   },
   "source": [
    "Now let's load the data in a more manageable format. Since, depending on your computer setup you might not be able to fit it all in memory, we'll load each class into a separate dataset, store them on disk and curate them independently. Later we'll merge them into a single dataset of manageable size.\n",
    "\n",
    "We'll convert the entire dataset into a 3D array (image index, x, y) of floating point values, normalized to have approximately zero mean and standard deviation ~0.5 to make training easier down the road. \n",
    "\n",
    "A few images might not be readable, we'll just skip them."
   ]
  },
  {
   "cell_type": "code",
   "execution_count": 7,
   "metadata": {
    "cellView": "both",
    "colab": {
     "autoexec": {
      "startup": false,
      "wait_interval": 0
     },
     "output_extras": [
      {
       "item_id": 30
      }
     ]
    },
    "colab_type": "code",
    "collapsed": false,
    "executionInfo": {
     "elapsed": 399874,
     "status": "ok",
     "timestamp": 1444485886378,
     "user": {
      "color": "#1FA15D",
      "displayName": "Vincent Vanhoucke",
      "isAnonymous": false,
      "isMe": true,
      "permissionId": "05076109866853157986",
      "photoUrl": "//lh6.googleusercontent.com/-cCJa7dTDcgQ/AAAAAAAAAAI/AAAAAAAACgw/r2EZ_8oYer4/s50-c-k-no/photo.jpg",
      "sessionId": "2a0a5e044bb03b66",
      "userId": "102167687554210253930"
     },
     "user_tz": 420
    },
    "id": "h7q0XhG3MJdf",
    "outputId": "92c391bb-86ff-431d-9ada-315568a19e59"
   },
   "outputs": [
    {
     "name": "stdout",
     "output_type": "stream",
     "text": [
      "Pickling /Users/kmi_local/Documents/Work/projects/Udacity/tensorflow/tensorflow/examples/udacity/data/notMNIST_large/A.pickle.\n",
      "/Users/kmi_local/Documents/Work/projects/Udacity/tensorflow/tensorflow/examples/udacity/data/notMNIST_large/A\n",
      "Could not read: /Users/kmi_local/Documents/Work/projects/Udacity/tensorflow/tensorflow/examples/udacity/data/notMNIST_large/A/RnJlaWdodERpc3BCb29rSXRhbGljLnR0Zg==.png : cannot identify image file '/Users/kmi_local/Documents/Work/projects/Udacity/tensorflow/tensorflow/examples/udacity/data/notMNIST_large/A/RnJlaWdodERpc3BCb29rSXRhbGljLnR0Zg==.png' - it's ok, skipping.\n",
      "Could not read: /Users/kmi_local/Documents/Work/projects/Udacity/tensorflow/tensorflow/examples/udacity/data/notMNIST_large/A/SG90IE11c3RhcmQgQlROIFBvc3Rlci50dGY=.png : cannot identify image file '/Users/kmi_local/Documents/Work/projects/Udacity/tensorflow/tensorflow/examples/udacity/data/notMNIST_large/A/SG90IE11c3RhcmQgQlROIFBvc3Rlci50dGY=.png' - it's ok, skipping.\n",
      "Could not read: /Users/kmi_local/Documents/Work/projects/Udacity/tensorflow/tensorflow/examples/udacity/data/notMNIST_large/A/Um9tYW5hIEJvbGQucGZi.png : cannot identify image file '/Users/kmi_local/Documents/Work/projects/Udacity/tensorflow/tensorflow/examples/udacity/data/notMNIST_large/A/Um9tYW5hIEJvbGQucGZi.png' - it's ok, skipping.\n",
      "Full dataset tensor: (52909, 28, 28)\n",
      "Mean: -0.12825\n",
      "Standard deviation: 0.443121\n",
      "Pickling /Users/kmi_local/Documents/Work/projects/Udacity/tensorflow/tensorflow/examples/udacity/data/notMNIST_large/B.pickle.\n",
      "/Users/kmi_local/Documents/Work/projects/Udacity/tensorflow/tensorflow/examples/udacity/data/notMNIST_large/B\n",
      "Could not read: /Users/kmi_local/Documents/Work/projects/Udacity/tensorflow/tensorflow/examples/udacity/data/notMNIST_large/B/TmlraXNFRi1TZW1pQm9sZEl0YWxpYy5vdGY=.png : cannot identify image file '/Users/kmi_local/Documents/Work/projects/Udacity/tensorflow/tensorflow/examples/udacity/data/notMNIST_large/B/TmlraXNFRi1TZW1pQm9sZEl0YWxpYy5vdGY=.png' - it's ok, skipping.\n",
      "Full dataset tensor: (52911, 28, 28)\n",
      "Mean: -0.00756303\n",
      "Standard deviation: 0.454491\n",
      "Pickling /Users/kmi_local/Documents/Work/projects/Udacity/tensorflow/tensorflow/examples/udacity/data/notMNIST_large/C.pickle.\n",
      "/Users/kmi_local/Documents/Work/projects/Udacity/tensorflow/tensorflow/examples/udacity/data/notMNIST_large/C\n",
      "Full dataset tensor: (52912, 28, 28)\n",
      "Mean: -0.142258\n",
      "Standard deviation: 0.439806\n",
      "Pickling /Users/kmi_local/Documents/Work/projects/Udacity/tensorflow/tensorflow/examples/udacity/data/notMNIST_large/D.pickle.\n",
      "/Users/kmi_local/Documents/Work/projects/Udacity/tensorflow/tensorflow/examples/udacity/data/notMNIST_large/D\n",
      "Could not read: /Users/kmi_local/Documents/Work/projects/Udacity/tensorflow/tensorflow/examples/udacity/data/notMNIST_large/D/VHJhbnNpdCBCb2xkLnR0Zg==.png : cannot identify image file '/Users/kmi_local/Documents/Work/projects/Udacity/tensorflow/tensorflow/examples/udacity/data/notMNIST_large/D/VHJhbnNpdCBCb2xkLnR0Zg==.png' - it's ok, skipping.\n",
      "Full dataset tensor: (52911, 28, 28)\n",
      "Mean: -0.0573678\n",
      "Standard deviation: 0.455648\n",
      "Pickling /Users/kmi_local/Documents/Work/projects/Udacity/tensorflow/tensorflow/examples/udacity/data/notMNIST_large/E.pickle.\n",
      "/Users/kmi_local/Documents/Work/projects/Udacity/tensorflow/tensorflow/examples/udacity/data/notMNIST_large/E\n",
      "Full dataset tensor: (52912, 28, 28)\n",
      "Mean: -0.069899\n",
      "Standard deviation: 0.452942\n",
      "Pickling /Users/kmi_local/Documents/Work/projects/Udacity/tensorflow/tensorflow/examples/udacity/data/notMNIST_large/F.pickle.\n",
      "/Users/kmi_local/Documents/Work/projects/Udacity/tensorflow/tensorflow/examples/udacity/data/notMNIST_large/F\n",
      "Full dataset tensor: (52912, 28, 28)\n",
      "Mean: -0.125583\n",
      "Standard deviation: 0.44709\n",
      "Pickling /Users/kmi_local/Documents/Work/projects/Udacity/tensorflow/tensorflow/examples/udacity/data/notMNIST_large/G.pickle.\n",
      "/Users/kmi_local/Documents/Work/projects/Udacity/tensorflow/tensorflow/examples/udacity/data/notMNIST_large/G\n",
      "Full dataset tensor: (52912, 28, 28)\n",
      "Mean: -0.0945814\n",
      "Standard deviation: 0.44624\n",
      "Pickling /Users/kmi_local/Documents/Work/projects/Udacity/tensorflow/tensorflow/examples/udacity/data/notMNIST_large/H.pickle.\n",
      "/Users/kmi_local/Documents/Work/projects/Udacity/tensorflow/tensorflow/examples/udacity/data/notMNIST_large/H\n",
      "Full dataset tensor: (52912, 28, 28)\n",
      "Mean: -0.0685221\n",
      "Standard deviation: 0.454232\n",
      "Pickling /Users/kmi_local/Documents/Work/projects/Udacity/tensorflow/tensorflow/examples/udacity/data/notMNIST_large/I.pickle.\n",
      "/Users/kmi_local/Documents/Work/projects/Udacity/tensorflow/tensorflow/examples/udacity/data/notMNIST_large/I\n",
      "Full dataset tensor: (52912, 28, 28)\n",
      "Mean: 0.0307862\n",
      "Standard deviation: 0.468899\n",
      "Pickling /Users/kmi_local/Documents/Work/projects/Udacity/tensorflow/tensorflow/examples/udacity/data/notMNIST_large/J.pickle.\n",
      "/Users/kmi_local/Documents/Work/projects/Udacity/tensorflow/tensorflow/examples/udacity/data/notMNIST_large/J\n",
      "Full dataset tensor: (52911, 28, 28)\n",
      "Mean: -0.153358\n",
      "Standard deviation: 0.443656\n",
      "Pickling /Users/kmi_local/Documents/Work/projects/Udacity/tensorflow/tensorflow/examples/udacity/data/notMNIST_small/A.pickle.\n",
      "/Users/kmi_local/Documents/Work/projects/Udacity/tensorflow/tensorflow/examples/udacity/data/notMNIST_small/A\n",
      "Could not read: /Users/kmi_local/Documents/Work/projects/Udacity/tensorflow/tensorflow/examples/udacity/data/notMNIST_small/A/RGVtb2NyYXRpY2FCb2xkT2xkc3R5bGUgQm9sZC50dGY=.png : cannot identify image file '/Users/kmi_local/Documents/Work/projects/Udacity/tensorflow/tensorflow/examples/udacity/data/notMNIST_small/A/RGVtb2NyYXRpY2FCb2xkT2xkc3R5bGUgQm9sZC50dGY=.png' - it's ok, skipping.\n",
      "Full dataset tensor: (1872, 28, 28)\n",
      "Mean: -0.132626\n",
      "Standard deviation: 0.445128\n",
      "Pickling /Users/kmi_local/Documents/Work/projects/Udacity/tensorflow/tensorflow/examples/udacity/data/notMNIST_small/B.pickle.\n",
      "/Users/kmi_local/Documents/Work/projects/Udacity/tensorflow/tensorflow/examples/udacity/data/notMNIST_small/B\n",
      "Full dataset tensor: (1873, 28, 28)\n",
      "Mean: 0.00535609\n",
      "Standard deviation: 0.457115\n",
      "Pickling /Users/kmi_local/Documents/Work/projects/Udacity/tensorflow/tensorflow/examples/udacity/data/notMNIST_small/C.pickle.\n",
      "/Users/kmi_local/Documents/Work/projects/Udacity/tensorflow/tensorflow/examples/udacity/data/notMNIST_small/C\n",
      "Full dataset tensor: (1873, 28, 28)\n",
      "Mean: -0.141521\n",
      "Standard deviation: 0.44269\n",
      "Pickling /Users/kmi_local/Documents/Work/projects/Udacity/tensorflow/tensorflow/examples/udacity/data/notMNIST_small/D.pickle.\n",
      "/Users/kmi_local/Documents/Work/projects/Udacity/tensorflow/tensorflow/examples/udacity/data/notMNIST_small/D\n",
      "Full dataset tensor: (1873, 28, 28)\n",
      "Mean: -0.0492167\n",
      "Standard deviation: 0.459759\n",
      "Pickling /Users/kmi_local/Documents/Work/projects/Udacity/tensorflow/tensorflow/examples/udacity/data/notMNIST_small/E.pickle.\n",
      "/Users/kmi_local/Documents/Work/projects/Udacity/tensorflow/tensorflow/examples/udacity/data/notMNIST_small/E\n",
      "Full dataset tensor: (1873, 28, 28)\n",
      "Mean: -0.0599148\n",
      "Standard deviation: 0.45735\n",
      "Pickling /Users/kmi_local/Documents/Work/projects/Udacity/tensorflow/tensorflow/examples/udacity/data/notMNIST_small/F.pickle.\n",
      "/Users/kmi_local/Documents/Work/projects/Udacity/tensorflow/tensorflow/examples/udacity/data/notMNIST_small/F\n",
      "Could not read: /Users/kmi_local/Documents/Work/projects/Udacity/tensorflow/tensorflow/examples/udacity/data/notMNIST_small/F/Q3Jvc3NvdmVyIEJvbGRPYmxpcXVlLnR0Zg==.png : cannot identify image file '/Users/kmi_local/Documents/Work/projects/Udacity/tensorflow/tensorflow/examples/udacity/data/notMNIST_small/F/Q3Jvc3NvdmVyIEJvbGRPYmxpcXVlLnR0Zg==.png' - it's ok, skipping.\n",
      "Full dataset tensor: (1872, 28, 28)\n",
      "Mean: -0.118185\n",
      "Standard deviation: 0.452279\n",
      "Pickling /Users/kmi_local/Documents/Work/projects/Udacity/tensorflow/tensorflow/examples/udacity/data/notMNIST_small/G.pickle.\n",
      "/Users/kmi_local/Documents/Work/projects/Udacity/tensorflow/tensorflow/examples/udacity/data/notMNIST_small/G\n",
      "Full dataset tensor: (1872, 28, 28)\n",
      "Mean: -0.0925503\n",
      "Standard deviation: 0.449006\n",
      "Pickling /Users/kmi_local/Documents/Work/projects/Udacity/tensorflow/tensorflow/examples/udacity/data/notMNIST_small/H.pickle.\n",
      "/Users/kmi_local/Documents/Work/projects/Udacity/tensorflow/tensorflow/examples/udacity/data/notMNIST_small/H\n",
      "Full dataset tensor: (1872, 28, 28)\n",
      "Mean: -0.0586893\n",
      "Standard deviation: 0.458759\n",
      "Pickling /Users/kmi_local/Documents/Work/projects/Udacity/tensorflow/tensorflow/examples/udacity/data/notMNIST_small/I.pickle.\n",
      "/Users/kmi_local/Documents/Work/projects/Udacity/tensorflow/tensorflow/examples/udacity/data/notMNIST_small/I\n",
      "Full dataset tensor: (1872, 28, 28)\n",
      "Mean: 0.0526451\n",
      "Standard deviation: 0.471894\n",
      "Pickling /Users/kmi_local/Documents/Work/projects/Udacity/tensorflow/tensorflow/examples/udacity/data/notMNIST_small/J.pickle.\n",
      "/Users/kmi_local/Documents/Work/projects/Udacity/tensorflow/tensorflow/examples/udacity/data/notMNIST_small/J\n",
      "Full dataset tensor: (1872, 28, 28)\n",
      "Mean: -0.151689\n",
      "Standard deviation: 0.448014\n"
     ]
    }
   ],
   "source": [
    "image_size = 28  # Pixel width and height.\n",
    "pixel_depth = 255.0  # Number of levels per pixel.\n",
    "\n",
    "def load_letter(folder, min_num_images):\n",
    "  \"\"\"Load the data for a single letter label.\"\"\"\n",
    "  image_files = os.listdir(folder)\n",
    "  dataset = np.ndarray(shape=(len(image_files), image_size, image_size),\n",
    "                         dtype=np.float32)\n",
    "  print(folder)\n",
    "  num_images = 0\n",
    "  for image in image_files:\n",
    "    image_file = os.path.join(folder, image)\n",
    "    try:\n",
    "      image_data = (ndimage.imread(image_file).astype(float) - \n",
    "                    pixel_depth / 2) / pixel_depth\n",
    "      if image_data.shape != (image_size, image_size):\n",
    "        raise Exception('Unexpected image shape: %s' % str(image_data.shape))\n",
    "      dataset[num_images, :, :] = image_data\n",
    "      num_images = num_images + 1\n",
    "    except IOError as e:\n",
    "      print('Could not read:', image_file, ':', e, '- it\\'s ok, skipping.')\n",
    "    \n",
    "  dataset = dataset[0:num_images, :, :]\n",
    "  if num_images < min_num_images:\n",
    "    raise Exception('Many fewer images than expected: %d < %d' %\n",
    "                    (num_images, min_num_images))\n",
    "    \n",
    "  print('Full dataset tensor:', dataset.shape)\n",
    "  print('Mean:', np.mean(dataset))\n",
    "  print('Standard deviation:', np.std(dataset))\n",
    "  return dataset\n",
    "        \n",
    "def maybe_pickle(data_folders, min_num_images_per_class, force=False):\n",
    "  dataset_names = []\n",
    "  for folder in data_folders:\n",
    "    set_filename = folder + '.pickle'\n",
    "    dataset_names.append(set_filename)\n",
    "    if os.path.exists(set_filename) and not force:\n",
    "      # You may override by setting force=True.\n",
    "      print('%s already present - Skipping pickling.' % set_filename)\n",
    "    else:\n",
    "      print('Pickling %s.' % set_filename)\n",
    "      dataset = load_letter(folder, min_num_images_per_class)\n",
    "      try:\n",
    "        with open(set_filename, 'wb') as f:\n",
    "          pickle.dump(dataset, f, pickle.HIGHEST_PROTOCOL)\n",
    "      except Exception as e:\n",
    "        print('Unable to save data to', set_filename, ':', e)\n",
    "  \n",
    "  return dataset_names\n",
    "\n",
    "train_datasets = maybe_pickle(train_folders, 45000)\n",
    "test_datasets = maybe_pickle(test_folders, 1800)"
   ]
  },
  {
   "cell_type": "markdown",
   "metadata": {
    "colab_type": "text",
    "id": "vUdbskYE2d87"
   },
   "source": [
    "---\n",
    "Problem 2\n",
    "---------\n",
    "\n",
    "Let's verify that the data still looks good. Displaying a sample of the labels and images from the ndarray. Hint: you can use matplotlib.pyplot.\n",
    "\n",
    "---"
   ]
  },
  {
   "cell_type": "code",
   "execution_count": 64,
   "metadata": {
    "collapsed": false
   },
   "outputs": [
    {
     "data": {
      "image/png": "[encoded data removed]",
      "text/plain": [
       "<matplotlib.figure.Figure at 0x10989b210>"
      ]
     },
     "metadata": {},
     "output_type": "display_data"
    },
    {
     "data": {
      "image/png": "[encoded data removed]",
      "text/plain": [
       "<matplotlib.figure.Figure at 0x118dfc390>"
      ]
     },
     "metadata": {},
     "output_type": "display_data"
    },
    {
     "data": {
      "image/png": "[encoded data removed]",
      "text/plain": [
       "<matplotlib.figure.Figure at 0x1098c0050>"
      ]
     },
     "metadata": {},
     "output_type": "display_data"
    },
    {
     "data": {
      "image/png": "[encoded data removed]",
      "text/plain": [
       "<matplotlib.figure.Figure at 0x109b71350>"
      ]
     },
     "metadata": {},
     "output_type": "display_data"
    },
    {
     "data": {
      "image/png": "[encoded data removed]",
      "text/plain": [
       "<matplotlib.figure.Figure at 0x109643390>"
      ]
     },
     "metadata": {},
     "output_type": "display_data"
    },
    {
     "data": {
      "image/png": "[encoded data removed]",
      "text/plain": [
       "<matplotlib.figure.Figure at 0x1087f8410>"
      ]
     },
     "metadata": {},
     "output_type": "display_data"
    },
    {
     "data": {
      "image/png": "[encoded data removed]",
      "text/plain": [
       "<matplotlib.figure.Figure at 0x108270490>"
      ]
     },
     "metadata": {},
     "output_type": "display_data"
    },
    {
     "data": {
      "image/png": "[encoded data removed]",
      "text/plain": [
       "<matplotlib.figure.Figure at 0x1087ee0d0>"
      ]
     },
     "metadata": {},
     "output_type": "display_data"
    },
    {
     "data": {
      "image/png": "[encoded data removed]",
      "text/plain": [
       "<matplotlib.figure.Figure at 0x10dea3fd0>"
      ]
     },
     "metadata": {},
     "output_type": "display_data"
    },
    {
     "data": {
      "image/png": "[encoded data removed]",
      "text/plain": [
       "<matplotlib.figure.Figure at 0x11da3a7d0>"
      ]
     },
     "metadata": {},
     "output_type": "display_data"
    }
   ],
   "source": [
    "import matplotlib.pyplot as plt\n",
    "\n",
    "\n",
    "\n",
    "numb = 1000\n",
    "letters = ['A', 'B', 'C', 'D', 'E', 'F', 'G', 'H', 'I', 'J']\n",
    "for letter in letters:\n",
    "    pkl_file = open(mypath + letter + '.pickle', 'rb')\n",
    "    data_loaded = pickle.load(pkl_file)\n",
    "    plt.figure()\n",
    "    plt.imshow(data_loaded[numb], interpolation='nearest')\n",
    "    plt.show()\n",
    "\n"
   ]
  },
  {
   "cell_type": "markdown",
   "metadata": {
    "colab_type": "text",
    "id": "cYznx5jUwzoO"
   },
   "source": [
    "---\n",
    "Problem 3\n",
    "---------\n",
    "Another check: we expect the data to be balanced across classes. Verify that.\n",
    "\n",
    "---"
   ]
  },
  {
   "cell_type": "code",
   "execution_count": 87,
   "metadata": {
    "collapsed": false
   },
   "outputs": [
    {
     "name": "stdout",
     "output_type": "stream",
     "text": [
      "[10.0, 10.0, 10.0, 10.0, 10.0, 10.0, 10.0, 10.0, 10.0, 10.0]\n",
      "ballanced\n",
      "[10.0, 10.0, 10.0, 10.0, 10.0, 10.0, 10.0, 10.0, 10.0, 10.0]\n",
      "ballanced\n"
     ]
    }
   ],
   "source": [
    "# for training\n",
    "import math\n",
    "\n",
    "def check_if_ballanced(path):\n",
    "    summy = 0\n",
    "    values = []\n",
    "    for letter in letters:\n",
    "        pkl_file = open(path + letter + '.pickle', 'rb')\n",
    "        data_loaded = pickle.load(pkl_file)\n",
    "        summy += len(data_loaded)\n",
    "        values.append(len(data_loaded))\n",
    "\n",
    "    arr = []\n",
    "    for value in values:\n",
    "        arr.append(round((value*100.0/summy)))\n",
    "\n",
    "    print(sorted(arr))\n",
    "    arr = sorted(arr)\n",
    "    if arr[0] == arr[len(arr)-1]:\n",
    "        print('ballanced')\n",
    "    else:\n",
    "        print('unballanced')\n",
    " \n",
    "training_path = mypath\n",
    "check_if_ballanced(training_path)\n",
    "test_path = '/Users/kmi_local/Documents/Work/projects/Udacity/tensorflow/tensorflow/examples/udacity/data/notMNIST_small/'\n",
    "check_if_ballanced(test_path)\n",
    "\n",
    "        \n",
    "#should be of the same percentage\n",
    "    "
   ]
  },
  {
   "cell_type": "markdown",
   "metadata": {
    "colab_type": "text",
    "id": "LA7M7K22ynCt"
   },
   "source": [
    "Merge and prune the training data as needed. Depending on your computer setup, you might not be able to fit it all in memory, and you can tune `train_size` as needed. The labels will be stored into a separate array of integers 0 through 9.\n",
    "\n",
    "Also create a validation dataset for hyperparameter tuning."
   ]
  },
  {
   "cell_type": "code",
   "execution_count": 88,
   "metadata": {
    "cellView": "both",
    "colab": {
     "autoexec": {
      "startup": false,
      "wait_interval": 0
     },
     "output_extras": [
      {
       "item_id": 1
      }
     ]
    },
    "colab_type": "code",
    "collapsed": false,
    "executionInfo": {
     "elapsed": 411281,
     "status": "ok",
     "timestamp": 1444485897869,
     "user": {
      "color": "#1FA15D",
      "displayName": "Vincent Vanhoucke",
      "isAnonymous": false,
      "isMe": true,
      "permissionId": "05076109866853157986",
      "photoUrl": "//lh6.googleusercontent.com/-cCJa7dTDcgQ/AAAAAAAAAAI/AAAAAAAACgw/r2EZ_8oYer4/s50-c-k-no/photo.jpg",
      "sessionId": "2a0a5e044bb03b66",
      "userId": "102167687554210253930"
     },
     "user_tz": 420
    },
    "id": "s3mWgZLpyuzq",
    "outputId": "8af66da6-902d-4719-bedc-7c9fb7ae7948"
   },
   "outputs": [
    {
     "name": "stdout",
     "output_type": "stream",
     "text": [
      "Training: (200000, 28, 28) (200000,)\n",
      "Validation: (10000, 28, 28) (10000,)\n",
      "Testing: (10000, 28, 28) (10000,)\n"
     ]
    }
   ],
   "source": [
    "def make_arrays(nb_rows, img_size):\n",
    "  if nb_rows:\n",
    "    dataset = np.ndarray((nb_rows, img_size, img_size), dtype=np.float32)\n",
    "    labels = np.ndarray(nb_rows, dtype=np.int32)\n",
    "  else:\n",
    "    dataset, labels = None, None\n",
    "  return dataset, labels\n",
    "\n",
    "def merge_datasets(pickle_files, train_size, valid_size=0):\n",
    "  num_classes = len(pickle_files)\n",
    "  valid_dataset, valid_labels = make_arrays(valid_size, image_size)\n",
    "  train_dataset, train_labels = make_arrays(train_size, image_size)\n",
    "  vsize_per_class = valid_size // num_classes\n",
    "  tsize_per_class = train_size // num_classes\n",
    "    \n",
    "  start_v, start_t = 0, 0\n",
    "  end_v, end_t = vsize_per_class, tsize_per_class\n",
    "  end_l = vsize_per_class+tsize_per_class\n",
    "  for label, pickle_file in enumerate(pickle_files):       \n",
    "    try:\n",
    "      with open(pickle_file, 'rb') as f:\n",
    "        letter_set = pickle.load(f)\n",
    "        # let's shuffle the letters to have random validation and training set\n",
    "        np.random.shuffle(letter_set)\n",
    "        if valid_dataset is not None:\n",
    "          valid_letter = letter_set[:vsize_per_class, :, :]\n",
    "          valid_dataset[start_v:end_v, :, :] = valid_letter\n",
    "          valid_labels[start_v:end_v] = label\n",
    "          start_v += vsize_per_class\n",
    "          end_v += vsize_per_class\n",
    "                    \n",
    "        train_letter = letter_set[vsize_per_class:end_l, :, :]\n",
    "        train_dataset[start_t:end_t, :, :] = train_letter\n",
    "        train_labels[start_t:end_t] = label\n",
    "        start_t += tsize_per_class\n",
    "        end_t += tsize_per_class\n",
    "    except Exception as e:\n",
    "      print('Unable to process data from', pickle_file, ':', e)\n",
    "      raise\n",
    "    \n",
    "  return valid_dataset, valid_labels, train_dataset, train_labels\n",
    "            \n",
    "            \n",
    "train_size = 200000\n",
    "valid_size = 10000\n",
    "test_size = 10000\n",
    "\n",
    "valid_dataset, valid_labels, train_dataset, train_labels = merge_datasets(\n",
    "  train_datasets, train_size, valid_size)\n",
    "_, _, test_dataset, test_labels = merge_datasets(test_datasets, test_size)\n",
    "\n",
    "print('Training:', train_dataset.shape, train_labels.shape)\n",
    "print('Validation:', valid_dataset.shape, valid_labels.shape)\n",
    "print('Testing:', test_dataset.shape, test_labels.shape)"
   ]
  },
  {
   "cell_type": "markdown",
   "metadata": {
    "colab_type": "text",
    "id": "GPTCnjIcyuKN"
   },
   "source": [
    "Next, we'll randomize the data. It's important to have the labels well shuffled for the training and test distributions to match."
   ]
  },
  {
   "cell_type": "code",
   "execution_count": 89,
   "metadata": {
    "cellView": "both",
    "colab": {
     "autoexec": {
      "startup": false,
      "wait_interval": 0
     }
    },
    "colab_type": "code",
    "collapsed": true,
    "id": "6WZ2l2tN2zOL"
   },
   "outputs": [],
   "source": [
    "def randomize(dataset, labels):\n",
    "  permutation = np.random.permutation(labels.shape[0])\n",
    "  shuffled_dataset = dataset[permutation,:,:]\n",
    "  shuffled_labels = labels[permutation]\n",
    "  return shuffled_dataset, shuffled_labels\n",
    "train_dataset, train_labels = randomize(train_dataset, train_labels)\n",
    "test_dataset, test_labels = randomize(test_dataset, test_labels)\n",
    "valid_dataset, valid_labels = randomize(valid_dataset, valid_labels)"
   ]
  },
  {
   "cell_type": "markdown",
   "metadata": {
    "colab_type": "text",
    "id": "puDUTe6t6USl"
   },
   "source": [
    "---\n",
    "Problem 4\n",
    "---------\n",
    "Convince yourself that the data is still good after shuffling!\n",
    "\n",
    "---"
   ]
  },
  {
   "cell_type": "code",
   "execution_count": 127,
   "metadata": {
    "collapsed": false
   },
   "outputs": [
    {
     "name": "stdout",
     "output_type": "stream",
     "text": [
      "(200000, 28, 28)\n",
      "200000\n",
      "Dataset = 0\n"
     ]
    },
    {
     "data": {
      "image/png": "[encoded data removed]",
      "text/plain": [
       "<matplotlib.figure.Figure at 0x108260210>"
      ]
     },
     "metadata": {},
     "output_type": "display_data"
    },
    {
     "name": "stdout",
     "output_type": "stream",
     "text": [
      "D\n"
     ]
    },
    {
     "data": {
      "image/png": "[encoded data removed]",
      "text/plain": [
       "<matplotlib.figure.Figure at 0x1085e7510>"
      ]
     },
     "metadata": {},
     "output_type": "display_data"
    },
    {
     "name": "stdout",
     "output_type": "stream",
     "text": [
      "B\n",
      "(10000, 28, 28)\n",
      "10000\n",
      "Dataset = 1\n"
     ]
    },
    {
     "data": {
      "image/png": "[encoded data removed]",
      "text/plain": [
       "<matplotlib.figure.Figure at 0x1087ede10>"
      ]
     },
     "metadata": {},
     "output_type": "display_data"
    },
    {
     "name": "stdout",
     "output_type": "stream",
     "text": [
      "D\n"
     ]
    },
    {
     "data": {
      "image/png": "[encoded data removed]",
      "text/plain": [
       "<matplotlib.figure.Figure at 0x10995dd50>"
      ]
     },
     "metadata": {},
     "output_type": "display_data"
    },
    {
     "name": "stdout",
     "output_type": "stream",
     "text": [
      "E\n",
      "(10000, 28, 28)\n",
      "10000\n",
      "Dataset = 2\n"
     ]
    },
    {
     "data": {
      "image/png": "[encoded data removed]",
      "text/plain": [
       "<matplotlib.figure.Figure at 0x109d15610>"
      ]
     },
     "metadata": {},
     "output_type": "display_data"
    },
    {
     "name": "stdout",
     "output_type": "stream",
     "text": [
      "C\n"
     ]
    },
    {
     "data": {
      "image/png": "[encoded data removed]",
      "text/plain": [
       "<matplotlib.figure.Figure at 0x109bff690>"
      ]
     },
     "metadata": {},
     "output_type": "display_data"
    },
    {
     "name": "stdout",
     "output_type": "stream",
     "text": [
      "E\n"
     ]
    }
   ],
   "source": [
    "datasets = [(train_dataset, train_labels), (test_dataset, test_labels), (valid_dataset, valid_labels)]\n",
    "import random\n",
    "random.seed(100001)\n",
    "num = 2\n",
    "index = 0\n",
    "id_letters_dict = {0:'A', 1:'B', 2:'C', 3:'D', 4:'E', 5:'F', 6:'G', 7:'H', 8:'I', 9:'J'}\n",
    "for el in datasets:\n",
    "    dataset, labels = el\n",
    "    print(dataset.shape)\n",
    "    print(len(labels))\n",
    "    print('Dataset = ' + str(index))\n",
    "    for i in range(0,num):\n",
    "        r = random.randint(0, len(labels)-1)\n",
    "        #print(r)\n",
    "        #show plots and lables\n",
    "        plt.figure()\n",
    "        plt.imshow(dataset[r], interpolation='nearest')\n",
    "        plt.show()\n",
    "        print(id_letters_dict[labels[r]])\n",
    "    index += 1\n",
    "        \n",
    "        \n",
    "    \n",
    "\n"
   ]
  },
  {
   "cell_type": "markdown",
   "metadata": {
    "colab_type": "text",
    "id": "tIQJaJuwg5Hw"
   },
   "source": [
    "Finally, let's save the data for later reuse:"
   ]
  },
  {
   "cell_type": "code",
   "execution_count": 118,
   "metadata": {
    "cellView": "both",
    "colab": {
     "autoexec": {
      "startup": false,
      "wait_interval": 0
     }
    },
    "colab_type": "code",
    "collapsed": true,
    "id": "QiR_rETzem6C"
   },
   "outputs": [],
   "source": [
    "pickle_file = os.path.join(data_root, 'notMNIST.pickle')\n",
    "\n",
    "try:\n",
    "  f = open(pickle_file, 'wb')\n",
    "  save = {\n",
    "    'train_dataset': train_dataset,\n",
    "    'train_labels': train_labels,\n",
    "    'valid_dataset': valid_dataset,\n",
    "    'valid_labels': valid_labels,\n",
    "    'test_dataset': test_dataset,\n",
    "    'test_labels': test_labels,\n",
    "    }\n",
    "  pickle.dump(save, f, pickle.HIGHEST_PROTOCOL)\n",
    "  f.close()\n",
    "except Exception as e:\n",
    "  print('Unable to save data to', pickle_file, ':', e)\n",
    "  raise"
   ]
  },
  {
   "cell_type": "code",
   "execution_count": 119,
   "metadata": {
    "cellView": "both",
    "colab": {
     "autoexec": {
      "startup": false,
      "wait_interval": 0
     },
     "output_extras": [
      {
       "item_id": 1
      }
     ]
    },
    "colab_type": "code",
    "collapsed": false,
    "executionInfo": {
     "elapsed": 413065,
     "status": "ok",
     "timestamp": 1444485899688,
     "user": {
      "color": "#1FA15D",
      "displayName": "Vincent Vanhoucke",
      "isAnonymous": false,
      "isMe": true,
      "permissionId": "05076109866853157986",
      "photoUrl": "//lh6.googleusercontent.com/-cCJa7dTDcgQ/AAAAAAAAAAI/AAAAAAAACgw/r2EZ_8oYer4/s50-c-k-no/photo.jpg",
      "sessionId": "2a0a5e044bb03b66",
      "userId": "102167687554210253930"
     },
     "user_tz": 420
    },
    "id": "hQbLjrW_iT39",
    "outputId": "b440efc6-5ee1-4cbc-d02d-93db44ebd956"
   },
   "outputs": [
    {
     "name": "stdout",
     "output_type": "stream",
     "text": [
      "Compressed pickle size: 690800441\n"
     ]
    }
   ],
   "source": [
    "statinfo = os.stat(pickle_file)\n",
    "print('Compressed pickle size:', statinfo.st_size)"
   ]
  },
  {
   "cell_type": "markdown",
   "metadata": {
    "colab_type": "text",
    "id": "gE_cRAQB33lk"
   },
   "source": [
    "---\n",
    "Problem 5\n",
    "---------\n",
    "\n",
    "By construction, this dataset might contain a lot of overlapping samples, including training data that's also contained in the validation and test set! Overlap between training and test can skew the results if you expect to use your model in an environment where there is never an overlap, but are actually ok if you expect to see training samples recur when you use it.\n",
    "Measure how much overlap there is between training, validation and test samples.\n",
    "\n",
    "Optional questions:\n",
    "- What about near duplicates between datasets? (images that are almost identical)\n",
    "- Create a sanitized validation and test set, and compare your accuracy on those in subsequent assignments.\n",
    "---"
   ]
  },
  {
   "cell_type": "code",
   "execution_count": 133,
   "metadata": {
    "collapsed": false
   },
   "outputs": [
    {
     "name": "stdout",
     "output_type": "stream",
     "text": [
      "3327\n"
     ]
    }
   ],
   "source": [
    "overlap = 0\n",
    "\n",
    "for i in range(0, len(train_dataset)):\n",
    "    for j in range (0, len(valid_dataset)):\n",
    "        if train_labels[i] == valid_labels[j]:\n",
    "            if np.array_equal(train_dataset[i], valid_dataset[j]):\n",
    "                overlap += 1\n",
    "                break;\n",
    "\n",
    "print(overlap) # 3327"
   ]
  },
  {
   "cell_type": "code",
   "execution_count": 134,
   "metadata": {
    "collapsed": false
   },
   "outputs": [
    {
     "name": "stdout",
     "output_type": "stream",
     "text": [
      "3568\n"
     ]
    }
   ],
   "source": [
    "overlap = 0\n",
    "\n",
    "for i in range(0, len(train_dataset)):\n",
    "    for j in range (0, len(test_dataset)):\n",
    "        if train_labels[i] == test_labels[j]:\n",
    "            if np.array_equal(train_dataset[i], test_dataset[j]):\n",
    "                overlap += 1\n",
    "                break;\n",
    "\n",
    "print(overlap) # 3568"
   ]
  },
  {
   "cell_type": "code",
   "execution_count": 135,
   "metadata": {
    "collapsed": false
   },
   "outputs": [
    {
     "name": "stdout",
     "output_type": "stream",
     "text": [
      "151\n"
     ]
    }
   ],
   "source": [
    "overlap = 0\n",
    "\n",
    "for i in range(0, len(valid_dataset)):\n",
    "    for j in range (0, len(test_dataset)):\n",
    "        if valid_labels[i] == test_labels[j]:\n",
    "            if np.array_equal(valid_dataset[i], test_dataset[j]):\n",
    "                overlap += 1\n",
    "                break;\n",
    "\n",
    "print(overlap) # 151"
   ]
  },
  {
   "cell_type": "markdown",
   "metadata": {
    "colab_type": "text",
    "id": "L8oww1s4JMQx"
   },
   "source": [
    "---\n",
    "Problem 6\n",
    "---------\n",
    "\n",
    "Let's get an idea of what an off-the-shelf classifier can give you on this data. It's always good to check that there is something to learn, and that it's a problem that is not so trivial that a canned solution solves it.\n",
    "\n",
    "Train a simple model on this data using 50, 100, 1000 and 5000 training samples. Hint: you can use the LogisticRegression model from sklearn.linear_model.\n",
    "\n",
    "Optional question: train an off-the-shelf model on all the data!\n",
    "\n",
    "---"
   ]
  },
  {
   "cell_type": "code",
   "execution_count": null,
   "metadata": {
    "collapsed": false
   },
   "outputs": [
    {
     "name": "stdout",
     "output_type": "stream",
     "text": [
      "############################## N-smaples = 50\n",
      "Training is finished - Validation started\n",
      "LogisticRegression(C=1.0, class_weight=None, dual=False, fit_intercept=True,\n",
      "          intercept_scaling=1, max_iter=100, multi_class='ovr', n_jobs=1,\n",
      "          penalty='l2', random_state=None, solver='liblinear', tol=0.0001,\n",
      "          verbose=0, warm_start=False)\n",
      "             precision    recall  f1-score   support\n",
      "\n",
      "          0       0.64      0.51      0.57      1000\n",
      "          1       0.36      0.47      0.41      1000\n",
      "          2       0.55      0.11      0.18      1000\n",
      "          3       0.52      0.03      0.06      1000\n",
      "          4       0.38      0.58      0.45      1000\n",
      "          5       0.59      0.68      0.63      1000\n",
      "          6       0.32      0.70      0.44      1000\n",
      "          7       0.44      0.28      0.34      1000\n",
      "          8       0.52      0.73      0.61      1000\n",
      "          9       0.73      0.56      0.64      1000\n",
      "\n",
      "avg / total       0.51      0.46      0.43     10000\n",
      "\n",
      "[[514  69   9   9  28  68  58  56 174  15]\n",
      " [ 30 465  10   8 202  60 104  50  52  19]\n",
      " [ 20  17 108   0 111  50 613  20  52   9]\n",
      " [ 25 423   9  33  57  39 358  11  33  12]\n",
      " [ 32  14  11   0 577 120  77  44 112  13]\n",
      " [ 16   7   4   2 110 684  27  64  58  28]\n",
      " [ 39  47  21   2  48  39 699  40  49  16]\n",
      " [ 75 118  11   0 377  49  26 276  50  18]\n",
      " [ 29  35   8   4  17  26  56  23 728  74]\n",
      " [ 19  89   4   5  10  20 165  41  82 565]]\n",
      "Validation is finished - Testing started\n",
      "             precision    recall  f1-score   support\n",
      "\n",
      "          0       0.77      0.57      0.66      1000\n",
      "          1       0.41      0.54      0.46      1000\n",
      "          2       0.62      0.09      0.16      1000\n",
      "          3       0.60      0.02      0.04      1000\n",
      "          4       0.37      0.65      0.47      1000\n",
      "          5       0.67      0.71      0.69      1000\n",
      "          6       0.35      0.78      0.48      1000\n",
      "          7       0.48      0.28      0.36      1000\n",
      "          8       0.60      0.79      0.68      1000\n",
      "          9       0.81      0.65      0.72      1000\n",
      "\n",
      "avg / total       0.57      0.51      0.47     10000\n",
      "\n",
      "[[572  67   2   7  24  39  37  62 165  25]\n",
      " [ 16 538   4   2 238  35  93  36  31   7]\n",
      " [  9   9  90   0  95  47 678  17  49   6]\n",
      " [ 13 468   4  21  65  15 366  11  20  17]\n",
      " [ 19   3  10   0 649 105  59  55  93   7]\n",
      " [  5   5   3   0 130 712  13  67  45  20]\n",
      " [ 30  30  16   2  47  29 778  20  42   6]\n",
      " [ 51 100  13   0 459  44  17 284  26   6]\n",
      " [ 17  26   3   1  18  20  45  16 794  60]\n",
      " [  9  74   1   2  15  16 152  23  56 652]]\n",
      "############################## N-smaples = 100\n",
      "Training is finished - Validation started\n",
      "LogisticRegression(C=1.0, class_weight=None, dual=False, fit_intercept=True,\n",
      "          intercept_scaling=1, max_iter=100, multi_class='ovr', n_jobs=1,\n",
      "          penalty='l2', random_state=None, solver='liblinear', tol=0.0001,\n",
      "          verbose=0, warm_start=False)\n",
      "             precision    recall  f1-score   support\n",
      "\n",
      "          0       0.84      0.71      0.77      1000\n",
      "          1       0.54      0.47      0.50      1000\n",
      "          2       0.70      0.73      0.71      1000\n",
      "          3       0.85      0.62      0.72      1000\n",
      "          4       0.43      0.68      0.53      1000\n",
      "          5       0.55      0.65      0.60      1000\n",
      "          6       0.61      0.64      0.62      1000\n",
      "          7       0.60      0.42      0.50      1000\n",
      "          8       0.69      0.68      0.68      1000\n",
      "          9       0.70      0.73      0.71      1000\n",
      "\n",
      "avg / total       0.65      0.63      0.63     10000\n",
      "\n",
      "[[713  35  25  22  26  37  24  60  33  25]\n",
      " [ 17 470  17  21 207 100  73  25  39  31]\n",
      " [  8  39 728   4  94  25  63  14  14  11]\n",
      " [  9  97  19 617  28  43  99  11  23  54]\n",
      " [ 17  41  55   2 676 102  35  23  31  18]\n",
      " [  5  18  21   5 174 649  21  55  26  26]\n",
      " [ 15  46 116  10  55  39 636  30  20  33]\n",
      " [ 38  67  29  14 275  71  20 421  47  18]\n",
      " [ 17  24  18   9  28  64  30  27 681 102]\n",
      " [  7  26  13  19   8  46  37  35  78 731]]\n",
      "Validation is finished - Testing started\n",
      "             precision    recall  f1-score   support\n",
      "\n",
      "          0       0.91      0.79      0.85      1000\n",
      "          1       0.65      0.56      0.60      1000\n",
      "          2       0.76      0.78      0.77      1000\n",
      "          3       0.92      0.68      0.79      1000\n",
      "          4       0.45      0.76      0.57      1000\n",
      "          5       0.63      0.69      0.66      1000\n",
      "          6       0.71      0.71      0.71      1000\n",
      "          7       0.64      0.42      0.50      1000\n",
      "          8       0.76      0.76      0.76      1000\n",
      "          9       0.77      0.81      0.79      1000\n",
      "\n",
      "avg / total       0.72      0.70      0.70     10000\n",
      "\n",
      "[[786  22  14  12  17  20  12  72  19  26]\n",
      " [ 12 562   7  10 210  73  59  18  30  19]\n",
      " [  1  22 781   2  89  19  58  14   6   8]\n",
      " [  7 103  15 684  17  25  69   8  21  51]\n",
      " [ 10  25  42   0 761  90  19  20  18  15]\n",
      " [  3  10  16   4 174 695  10  55  19  14]\n",
      " [  4  31 124   9  44  39 707  12  11  19]\n",
      " [ 22  48  11   9 351  68  15 417  50   9]\n",
      " [ 10  22  11   1  22  50  21  17 760  86]\n",
      " [  5  20   8  11   8  30  24  19  62 813]]\n",
      "############################## N-smaples = 1000\n",
      "Training is finished - Validation started\n",
      "LogisticRegression(C=1.0, class_weight=None, dual=False, fit_intercept=True,\n",
      "          intercept_scaling=1, max_iter=100, multi_class='ovr', n_jobs=1,\n",
      "          penalty='l2', random_state=None, solver='liblinear', tol=0.0001,\n",
      "          verbose=0, warm_start=False)\n",
      "             precision    recall  f1-score   support\n",
      "\n",
      "          0       0.81      0.79      0.80      1000\n",
      "          1       0.75      0.72      0.73      1000\n",
      "          2       0.76      0.79      0.77      1000\n",
      "          3       0.75      0.80      0.78      1000\n",
      "          4       0.72      0.70      0.71      1000\n",
      "          5       0.77      0.81      0.79      1000\n",
      "          6       0.73      0.73      0.73      1000\n",
      "          7       0.82      0.74      0.78      1000\n",
      "          8       0.69      0.74      0.71      1000\n",
      "          9       0.78      0.76      0.77      1000\n",
      "\n",
      "avg / total       0.76      0.76      0.76     10000\n",
      "\n",
      "[[791  27  14  26  22  18  13  47  25  17]\n",
      " [ 15 717  18  70  39  30  37  18  38  18]\n",
      " [  6  20 786  26  43  16  43   8  38  14]\n",
      " [ 14  39  22 801   7  25  29  11  25  27]\n",
      " [ 11  39  54  26 697  35  40  21  62  15]\n",
      " [ 12  20  15  14  47 810  28   9  24  21]\n",
      " [ 26  35  59  28  28  33 732  13  25  21]\n",
      " [ 48  16  17  22  28  41  26 738  41  23]\n",
      " [ 22  29  28  25  39  16  21  18 743  59]\n",
      " [ 29  17  24  28  14  23  29  15  59 762]]\n",
      "Validation is finished - Testing started\n",
      "             precision    recall  f1-score   support\n",
      "\n",
      "          0       0.87      0.85      0.86      1000\n",
      "          1       0.82      0.82      0.82      1000\n",
      "          2       0.83      0.86      0.84      1000\n",
      "          3       0.87      0.86      0.86      1000\n",
      "          4       0.82      0.78      0.80      1000\n",
      "          5       0.83      0.86      0.85      1000\n",
      "          6       0.82      0.83      0.82      1000\n",
      "          7       0.87      0.81      0.84      1000\n",
      "          8       0.78      0.82      0.80      1000\n",
      "          9       0.82      0.83      0.83      1000\n",
      "\n",
      "avg / total       0.83      0.83      0.83     10000\n",
      "\n",
      "[[852  12   6  12  18   8  10  47  12  23]\n",
      " [ 16 821  14  37  27  16  33   3  27   6]\n",
      " [  5   9 859   9  29  17  40   5  17  10]\n",
      " [  7  37  16 862   7   8  16   6  18  23]\n",
      " [  7  35  43  10 784  22  17  12  57  13]\n",
      " [ 11   7  15   8  33 863  16  10  13  24]\n",
      " [ 15  19  44  23  11  30 827   6  14  11]\n",
      " [ 33  21  13   6  20  34  17 811  26  19]\n",
      " [ 20  12   9  19  22  21  13  13 822  49]\n",
      " [ 14  24  22   8   4  15  24  15  42 832]]\n",
      "############################## N-smaples = 5000\n",
      "Training is finished - Validation started\n",
      "LogisticRegression(C=1.0, class_weight=None, dual=False, fit_intercept=True,\n",
      "          intercept_scaling=1, max_iter=100, multi_class='ovr', n_jobs=1,\n",
      "          penalty='l2', random_state=None, solver='liblinear', tol=0.0001,\n",
      "          verbose=0, warm_start=False)\n",
      "             precision    recall  f1-score   support\n",
      "\n",
      "          0       0.81      0.79      0.80      1000\n",
      "          1       0.78      0.73      0.76      1000\n",
      "          2       0.80      0.82      0.81      1000\n",
      "          3       0.80      0.80      0.80      1000\n",
      "          4       0.75      0.70      0.73      1000\n",
      "          5       0.79      0.82      0.80      1000\n",
      "          6       0.79      0.76      0.77      1000\n",
      "          7       0.79      0.77      0.78      1000\n",
      "          8       0.68      0.77      0.72      1000\n",
      "          9       0.77      0.79      0.78      1000\n",
      "\n",
      "avg / total       0.78      0.78      0.78     10000\n",
      "\n",
      "[[791  26  13  17  14  25  18  43  23  30]\n",
      " [ 16 732  13  53  39  29  26  35  34  23]\n",
      " [  7  10 816  16  42  14  28  14  34  19]\n",
      " [ 17  33  14 801  14  22  28  17  30  24]\n",
      " [ 17  24  52  15 705  31  31  31  78  16]\n",
      " [ 12  21  12  10  28 820  24  14  36  23]\n",
      " [ 25  26  53  19  31  20 759  18  27  22]\n",
      " [ 43  20   8  16  26  30  21 773  41  22]\n",
      " [ 24  29  15  24  23  20  17  21 770  57]\n",
      " [ 28  13  19  25  12  29  12  15  57 790]]\n",
      "Validation is finished - Testing started\n",
      "             precision    recall  f1-score   support\n",
      "\n",
      "          0       0.86      0.85      0.85      1000\n",
      "          1       0.86      0.84      0.85      1000\n",
      "          2       0.87      0.87      0.87      1000\n",
      "          3       0.90      0.88      0.89      1000\n",
      "          4       0.86      0.80      0.83      1000\n",
      "          5       0.85      0.88      0.87      1000\n",
      "          6       0.86      0.86      0.86      1000\n",
      "          7       0.87      0.84      0.85      1000\n",
      "          8       0.77      0.84      0.81      1000\n",
      "          9       0.82      0.85      0.84      1000\n",
      "\n",
      "avg / total       0.85      0.85      0.85     10000\n"
     ]
    }
   ],
   "source": [
    "from sklearn.linear_model import LogisticRegression\n",
    "from sklearn import metrics\n",
    "\n",
    "def prepare_data(n_sample, dataset, labels):\n",
    "    res_dataset = dataset[0:n_sample]\n",
    "    res_label = labels[0:n_sample]\n",
    "    nsamples, nx, ny = res_dataset.shape\n",
    "    res_dataset = res_dataset.reshape((nsamples,nx*ny))\n",
    "    return res_dataset, res_label\n",
    "\n",
    "\n",
    "model = LogisticRegression()\n",
    "n_samples= [50, 100, 1000, 5000, len(train_labels)]\n",
    "for n_sample in n_samples:\n",
    "    print('############################## N-samples = ' + str(n_sample))\n",
    "    tr_dataset, tr_label = prepare_data(n_sample, train_dataset, train_labels) \n",
    "    val_dataset, val_label = prepare_data(len(valid_labels), valid_dataset, valid_labels)\n",
    "    te_dataset, te_label = prepare_data(len(test_labels), test_dataset, test_labels)\n",
    "\n",
    "    model.fit(tr_dataset,tr_label)\n",
    "    print('Training is finished - Validation started')\n",
    "    print(model)\n",
    "    # make predictions\n",
    "    expected = val_label\n",
    "    predicted = model.predict(val_dataset)\n",
    "    print(metrics.classification_report(expected, predicted))\n",
    "    print(metrics.confusion_matrix(expected, predicted))\n",
    "    print('Validation is finished - Testing started')\n",
    "    expected = te_label\n",
    "    predicted = model.predict(te_dataset)\n",
    "    print(metrics.classification_report(expected, predicted))\n",
    "    print(metrics.confusion_matrix(expected, predicted))"
   ]
  }
 ],
 "metadata": {
  "colab": {
   "default_view": {},
   "name": "1_notmnist.ipynb",
   "provenance": [],
   "version": "0.3.2",
   "views": {}
  },
  "kernelspec": {
   "display_name": "Python 2",
   "language": "python",
   "name": "python2"
  },
  "language_info": {
   "codemirror_mode": {
    "name": "ipython",
    "version": 2
   },
   "file_extension": ".py",
   "mimetype": "text/x-python",
   "name": "python",
   "nbconvert_exporter": "python",
   "pygments_lexer": "ipython2",
   "version": "2.7.10"
  }
 },
 "nbformat": 4,
 "nbformat_minor": 0
}
