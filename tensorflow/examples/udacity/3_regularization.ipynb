{
 "cells": [
  {
   "cell_type": "markdown",
   "metadata": {
    "colab_type": "text",
    "id": "kR-4eNdK6lYS"
   },
   "source": [
    "Deep Learning\n",
    "=============\n",
    "\n",
    "Assignment 3\n",
    "------------\n",
    "\n",
    "Previously in `2_fullyconnected.ipynb`, you trained a logistic regression and a neural network model.\n",
    "\n",
    "The goal of this assignment is to explore regularization techniques."
   ]
  },
  {
   "cell_type": "code",
   "execution_count": 12,
   "metadata": {
    "cellView": "both",
    "colab": {
     "autoexec": {
      "startup": false,
      "wait_interval": 0
     }
    },
    "colab_type": "code",
    "collapsed": true,
    "id": "JLpLa8Jt7Vu4"
   },
   "outputs": [],
   "source": [
    "# These are all the modules we'll be using later. Make sure you can import them\n",
    "# before proceeding further.\n",
    "from __future__ import print_function\n",
    "import numpy as np\n",
    "import tensorflow as tf\n",
    "from six.moves import cPickle as pickle"
   ]
  },
  {
   "cell_type": "markdown",
   "metadata": {
    "colab_type": "text",
    "id": "1HrCK6e17WzV"
   },
   "source": [
    "First reload the data we generated in `1_notmnist.ipynb`."
   ]
  },
  {
   "cell_type": "code",
   "execution_count": 96,
   "metadata": {
    "cellView": "both",
    "colab": {
     "autoexec": {
      "startup": false,
      "wait_interval": 0
     },
     "output_extras": [
      {
       "item_id": 1
      }
     ]
    },
    "colab_type": "code",
    "collapsed": false,
    "executionInfo": {
     "elapsed": 11777,
     "status": "ok",
     "timestamp": 1449849322348,
     "user": {
      "color": "",
      "displayName": "",
      "isAnonymous": false,
      "isMe": true,
      "permissionId": "",
      "photoUrl": "",
      "sessionId": "0",
      "userId": ""
     },
     "user_tz": 480
    },
    "id": "y3-cj1bpmuxc",
    "outputId": "e03576f1-ebbe-4838-c388-f1777bcc9873"
   },
   "outputs": [
    {
     "name": "stdout",
     "output_type": "stream",
     "text": [
      "Training set (200000, 28, 28) (200000,)\n",
      "Validation set (10000, 28, 28) (10000,)\n",
      "Test set (10000, 28, 28) (10000,)\n"
     ]
    }
   ],
   "source": [
    "data_root = '/Users/kmi_local/Documents/Work/projects/Udacity/tensorflow/tensorflow/examples/udacity/data' # Change me to store data elsewhere\n",
    "pickle_file = data_root + '/notMNIST.pickle'\n",
    "\n",
    "with open(pickle_file, 'rb') as f:\n",
    "  save = pickle.load(f)\n",
    "  train_dataset = save['train_dataset']\n",
    "  train_labels = save['train_labels']\n",
    "  valid_dataset = save['valid_dataset']\n",
    "  valid_labels = save['valid_labels']\n",
    "  test_dataset = save['test_dataset']\n",
    "  test_labels = save['test_labels']\n",
    "  del save  # hint to help gc free up memory\n",
    "  print('Training set', train_dataset.shape, train_labels.shape)\n",
    "  print('Validation set', valid_dataset.shape, valid_labels.shape)\n",
    "  print('Test set', test_dataset.shape, test_labels.shape)"
   ]
  },
  {
   "cell_type": "markdown",
   "metadata": {
    "colab_type": "text",
    "id": "L7aHrm6nGDMB"
   },
   "source": [
    "Reformat into a shape that's more adapted to the models we're going to train:\n",
    "- data as a flat matrix,\n",
    "- labels as float 1-hot encodings."
   ]
  },
  {
   "cell_type": "code",
   "execution_count": 97,
   "metadata": {
    "cellView": "both",
    "colab": {
     "autoexec": {
      "startup": false,
      "wait_interval": 0
     },
     "output_extras": [
      {
       "item_id": 1
      }
     ]
    },
    "colab_type": "code",
    "collapsed": false,
    "executionInfo": {
     "elapsed": 11728,
     "status": "ok",
     "timestamp": 1449849322356,
     "user": {
      "color": "",
      "displayName": "",
      "isAnonymous": false,
      "isMe": true,
      "permissionId": "",
      "photoUrl": "",
      "sessionId": "0",
      "userId": ""
     },
     "user_tz": 480
    },
    "id": "IRSyYiIIGIzS",
    "outputId": "3f8996ee-3574-4f44-c953-5c8a04636582"
   },
   "outputs": [
    {
     "name": "stdout",
     "output_type": "stream",
     "text": [
      "Training set (200000, 784) (200000,)\n",
      "Validation set (10000, 784) (10000,)\n",
      "Test set (10000, 784) (10000,)\n"
     ]
    }
   ],
   "source": [
    "image_size = 28\n",
    "num_labels = 10\n",
    "\n",
    "def reformat(dataset, labels):\n",
    "  dataset = dataset.reshape((-1, image_size * image_size)).astype(np.float32)\n",
    "  # Map 1 to [0.0, 1.0, 0.0 ...], 2 to [0.0, 0.0, 1.0 ...]\n",
    "  labels = (np.arange(num_labels) == labels[:,None]).astype(np.float32)\n",
    "  return dataset, labels\n",
    "train_dataset, tr_labels = reformat(train_dataset, train_labels)\n",
    "valid_dataset, va_labels = reformat(valid_dataset, valid_labels)\n",
    "test_dataset, te_labels = reformat(test_dataset, test_labels)\n",
    "print('Training set', train_dataset.shape, train_labels.shape)\n",
    "print('Validation set', valid_dataset.shape, valid_labels.shape)\n",
    "print('Test set', test_dataset.shape, test_labels.shape)"
   ]
  },
  {
   "cell_type": "code",
   "execution_count": 15,
   "metadata": {
    "cellView": "both",
    "colab": {
     "autoexec": {
      "startup": false,
      "wait_interval": 0
     }
    },
    "colab_type": "code",
    "collapsed": true,
    "id": "RajPLaL_ZW6w"
   },
   "outputs": [],
   "source": [
    "def accuracy(predictions, labels):\n",
    "  return (100.0 * np.sum(np.argmax(predictions, 1) == np.argmax(labels, 1))\n",
    "          / predictions.shape[0])"
   ]
  },
  {
   "cell_type": "markdown",
   "metadata": {
    "colab_type": "text",
    "id": "sgLbUAQ1CW-1"
   },
   "source": [
    "---\n",
    "Problem 1\n",
    "---------\n",
    "\n",
    "Introduce and tune L2 regularization for both logistic and neural network models. Remember that L2 amounts to adding a penalty on the norm of the weights to the loss. In TensorFlow, you can compute the L2 loss for a tensor `t` using `nn.l2_loss(t)`. The right amount of regularization should improve your validation / test accuracy.\n",
    "\n",
    "---"
   ]
  },
  {
   "cell_type": "code",
   "execution_count": 17,
   "metadata": {
    "collapsed": false,
    "scrolled": true
   },
   "outputs": [
    {
     "name": "stdout",
     "output_type": "stream",
     "text": [
      "############################## N-samples = 5000\n",
      "0.839\n",
      "Training is finished - Validation started\n",
      "LogisticRegression(C=0.01, class_weight=None, dual=False, fit_intercept=True,\n",
      "          intercept_scaling=1, max_iter=100, multi_class='ovr', n_jobs=1,\n",
      "          penalty='l2', random_state=None, solver='liblinear', tol=0.0001,\n",
      "          verbose=0, warm_start=False)\n",
      "0.8083\n",
      "Validation is finished - Testing started\n",
      "0.8742\n",
      "############################## N-samples = 5000\n",
      "0.8874\n",
      "Training is finished - Validation started\n",
      "LogisticRegression(C=0.1, class_weight=None, dual=False, fit_intercept=True,\n",
      "          intercept_scaling=1, max_iter=100, multi_class='ovr', n_jobs=1,\n",
      "          penalty='l2', random_state=None, solver='liblinear', tol=0.0001,\n",
      "          verbose=0, warm_start=False)\n",
      "0.8017\n",
      "Validation is finished - Testing started\n",
      "0.8728\n",
      "############################## N-samples = 5000\n",
      "0.9318\n",
      "Training is finished - Validation started\n",
      "LogisticRegression(C=0.5, class_weight=None, dual=False, fit_intercept=True,\n",
      "          intercept_scaling=1, max_iter=100, multi_class='ovr', n_jobs=1,\n",
      "          penalty='l2', random_state=None, solver='liblinear', tol=0.0001,\n",
      "          verbose=0, warm_start=False)\n",
      "0.7861\n",
      "Validation is finished - Testing started\n",
      "0.8587\n",
      "############################## N-samples = 5000\n",
      "0.9442\n",
      "Training is finished - Validation started\n",
      "LogisticRegression(C=0.8, class_weight=None, dual=False, fit_intercept=True,\n",
      "          intercept_scaling=1, max_iter=100, multi_class='ovr', n_jobs=1,\n",
      "          penalty='l2', random_state=None, solver='liblinear', tol=0.0001,\n",
      "          verbose=0, warm_start=False)\n",
      "0.779\n",
      "Validation is finished - Testing started\n",
      "0.8536\n",
      "############################## N-samples = 5000\n",
      "0.9492\n",
      "Training is finished - Validation started\n",
      "LogisticRegression(C=1, class_weight=None, dual=False, fit_intercept=True,\n",
      "          intercept_scaling=1, max_iter=100, multi_class='ovr', n_jobs=1,\n",
      "          penalty='l2', random_state=None, solver='liblinear', tol=0.0001,\n",
      "          verbose=0, warm_start=False)\n",
      "0.7757\n",
      "Validation is finished - Testing started\n",
      "0.8511\n",
      "############################## N-samples = 5000\n",
      "0.986\n",
      "Training is finished - Validation started\n",
      "LogisticRegression(C=10, class_weight=None, dual=False, fit_intercept=True,\n",
      "          intercept_scaling=1, max_iter=100, multi_class='ovr', n_jobs=1,\n",
      "          penalty='l2', random_state=None, solver='liblinear', tol=0.0001,\n",
      "          verbose=0, warm_start=False)\n",
      "0.7425\n",
      "Validation is finished - Testing started\n",
      "0.8181\n",
      "############################## N-samples = 5000\n",
      "0.9954\n",
      "Training is finished - Validation started\n",
      "LogisticRegression(C=50, class_weight=None, dual=False, fit_intercept=True,\n",
      "          intercept_scaling=1, max_iter=100, multi_class='ovr', n_jobs=1,\n",
      "          penalty='l2', random_state=None, solver='liblinear', tol=0.0001,\n",
      "          verbose=0, warm_start=False)\n",
      "0.7193\n",
      "Validation is finished - Testing started\n",
      "0.7943\n",
      "############################## N-samples = 5000\n",
      "0.9962\n",
      "Training is finished - Validation started\n",
      "LogisticRegression(C=100, class_weight=None, dual=False, fit_intercept=True,\n",
      "          intercept_scaling=1, max_iter=100, multi_class='ovr', n_jobs=1,\n",
      "          penalty='l2', random_state=None, solver='liblinear', tol=0.0001,\n",
      "          verbose=0, warm_start=False)\n",
      "0.7092\n",
      "Validation is finished - Testing started\n",
      "0.7868\n",
      "[0.83899999999999997, 0.88739999999999997, 0.93179999999999996, 0.94420000000000004, 0.94920000000000004, 0.98599999999999999, 0.99539999999999995, 0.99619999999999997]\n",
      "[0.80830000000000002, 0.80169999999999997, 0.78610000000000002, 0.77900000000000003, 0.77569999999999995, 0.74250000000000005, 0.71930000000000005, 0.70920000000000005]\n",
      "[0.87419999999999998, 0.87280000000000002, 0.85870000000000002, 0.85360000000000003, 0.85109999999999997, 0.81810000000000005, 0.79430000000000001, 0.78680000000000005]\n"
     ]
    }
   ],
   "source": [
    "# regularizing logistic regression\n",
    "\n",
    "from sklearn.linear_model import LogisticRegression\n",
    "from sklearn import metrics\n",
    "\n",
    "n_samples= [50, 100, 1000, 5000, len(train_labels)]\n",
    "n_sample= 5000\n",
    "alpha_regs = [0.01, 0.1, 0.5, 0.8, 1, 10, 50, 100]\n",
    "acc_train = []\n",
    "acc_valid = []\n",
    "acc_test = []\n",
    "for alpha_reg in alpha_regs:\n",
    "    print('############################## N-samples = ' + str(n_sample))\n",
    "    tr_dataset, tr_label = train_dataset[0:n_sample], train_labels[0:n_sample]\n",
    "    val_dataset, val_label = valid_dataset, valid_labels\n",
    "    te_dataset, te_label = test_dataset, test_labels\n",
    "    model = LogisticRegression(penalty=\"l2\", C=alpha_reg)\n",
    "    model.fit(tr_dataset,tr_label)\n",
    "    expected = tr_label\n",
    "    predicted = model.predict(tr_dataset)\n",
    "    acc = metrics.accuracy_score(expected, predicted)\n",
    "    acc_train.append(acc)\n",
    "    print(acc)\n",
    "    print('Training is finished - Validation started')\n",
    "    print(model)\n",
    "    # make predictions\n",
    "    expected = val_label\n",
    "    predicted = model.predict(val_dataset)\n",
    "    acc = metrics.accuracy_score(expected, predicted)\n",
    "    acc_valid.append(acc)\n",
    "    print(acc)\n",
    "    print('Validation is finished - Testing started')\n",
    "    expected = te_label\n",
    "    predicted = model.predict(te_dataset)\n",
    "    acc = metrics.accuracy_score(expected, predicted)\n",
    "    acc_test.append(acc)\n",
    "    print(acc)\n",
    "    #penalty l2 c = 1 - 0,85\n",
    "    # c = 10 - 0.81\n",
    "    # c = 100 - 0.78\n",
    "    # c = 0.5 - 0.8587\n",
    "print(acc_train)\n",
    "print(acc_valid)\n",
    "print(acc_test)\n"
   ]
  },
  {
   "cell_type": "code",
   "execution_count": 8,
   "metadata": {
    "collapsed": false,
    "scrolled": true
   },
   "outputs": [
    {
     "data": {
      "image/png": "[encoded data removed]",
      "text/plain": [
       "<matplotlib.figure.Figure at 0x10b38ac50>"
      ]
     },
     "metadata": {},
     "output_type": "display_data"
    }
   ],
   "source": [
    "import matplotlib.pyplot as plt\n",
    "%matplotlib inline\n",
    "alpha_regs = [0.01, 0.1, 0.5, 0.8, 1, 10, 50, 100]\n",
    "acc_tr = [0.83899999999999997, 0.88739999999999997, 0.93179999999999996, 0.94420000000000004, 0.94920000000000004, 0.98599999999999999, 0.99539999999999995, 0.99619999999999997]\n",
    "acc_valid = [0.80830000000000002, 0.80169999999999997, 0.78610000000000002, 0.77900000000000003, 0.77569999999999995, 0.74250000000000005, 0.71930000000000005, 0.70920000000000005]\n",
    "acc_test = [0.87419999999999998, 0.87280000000000002, 0.85870000000000002, 0.85360000000000003, 0.85109999999999997, 0.81810000000000005, 0.79430000000000001, 0.78680000000000005]\n",
    "plt.figure(figsize=(5,5))\n",
    "x = range(0, len(alpha_regs))\n",
    "plt.plot(x, acc_tr, label = 'acc_train')\n",
    "plt.plot(x, acc_valid, label = 'acc_valid')\n",
    "plt.plot(x, acc_test, label = 'acc_test')\n",
    "#plt.ylim([0.9,1.01])\n",
    "plt.legend(loc = 0)\n",
    "plt.tight_layout()\n",
    "#plt.savefig(\"boxplot_BPMF_all.pdf\", format='PDF')\n",
    "plt.show()\n",
    "\n"
   ]
  },
  {
   "cell_type": "markdown",
   "metadata": {},
   "source": [
    "Alpha = 0.01 for regularization performs the best for logistic clasification"
   ]
  },
  {
   "cell_type": "code",
   "execution_count": 35,
   "metadata": {
    "collapsed": false
   },
   "outputs": [],
   "source": [
    "# L2 norm for neural network classifier\n",
    "batch_size = 128\n",
    "hidden_size = 1024\n",
    "beta = 0.001\n",
    "\n",
    "graph = tf.Graph()\n",
    "with graph.as_default():\n",
    "\n",
    "  # Input data. For the training data, we use a placeholder that will be fed\n",
    "  # at run time with a training minibatch.\n",
    "  tf_train_dataset = tf.placeholder(tf.float32,\n",
    "                                    shape=(batch_size, image_size * image_size))\n",
    "  tf_train_labels = tf.placeholder(tf.float32, shape=(batch_size, num_labels))\n",
    "  tf_valid_dataset = tf.constant(valid_dataset)\n",
    "  tf_test_dataset = tf.constant(test_dataset)\n",
    "  \n",
    "  # Variables.\n",
    "  weights = {\n",
    "    'h1': tf.Variable(tf.truncated_normal([image_size * image_size, hidden_size])),\n",
    "    'out': tf.Variable(tf.truncated_normal([hidden_size, num_labels]))\n",
    "  }\n",
    "\n",
    "  biases = {\n",
    "    'h1': tf.Variable(tf.zeros([hidden_size])),\n",
    "    'out': tf.Variable(tf.zeros([num_labels]))      \n",
    "  }\n",
    "    \n",
    "  # Training computation.\n",
    "  def get_logits(dataset_, weights, biases):      \n",
    "      logits_1l = tf.nn.relu(tf.matmul(dataset_, weights['h1']) + biases['h1'])\n",
    "      # 2nd layer logits\n",
    "      output = tf.matmul(logits_1l, weights['out']) + biases['out']\n",
    "      return output\n",
    "\n",
    "\n",
    "  logits = get_logits(tf_train_dataset, weights, biases) \n",
    "  loss = tf.reduce_mean(tf.nn.softmax_cross_entropy_with_logits(labels=tf_train_labels, logits=logits))\n",
    "  regularizers = tf.nn.l2_loss(weights['h1']) + tf.nn.l2_loss(weights['out'])\n",
    "  loss = tf.reduce_mean(loss + beta * regularizers)\n",
    "  \n",
    "  # Optimizer.\n",
    "  optimizer = tf.train.GradientDescentOptimizer(0.5).minimize(loss)\n",
    "  \n",
    "  # Predictions for the training, validation, and test data.\n",
    "  train_prediction = tf.nn.softmax(logits)\n",
    "  valid_prediction = tf.nn.softmax(get_logits(tf_valid_dataset, weights, biases))\n",
    "  test_prediction = tf.nn.softmax(get_logits(tf_test_dataset, weights, biases))"
   ]
  },
  {
   "cell_type": "code",
   "execution_count": 24,
   "metadata": {
    "collapsed": false
   },
   "outputs": [
    {
     "name": "stdout",
     "output_type": "stream",
     "text": [
      "Initialized\n",
      "Minibatch loss at step 0: 31898.398438\n",
      "Minibatch accuracy: 9.4%\n",
      "Validation accuracy: 32.0%\n",
      "Minibatch loss at step 500: 1.309123\n",
      "Minibatch accuracy: 82.8%\n",
      "Validation accuracy: 78.7%\n",
      "Minibatch loss at step 1000: 1.436938\n",
      "Minibatch accuracy: 72.7%\n",
      "Validation accuracy: 77.9%\n",
      "Minibatch loss at step 1500: 1.229286\n",
      "Minibatch accuracy: 85.9%\n",
      "Validation accuracy: 78.6%\n",
      "Minibatch loss at step 2000: 1.370465\n",
      "Minibatch accuracy: 74.2%\n",
      "Validation accuracy: 70.5%\n",
      "Minibatch loss at step 2500: 1.409223\n",
      "Minibatch accuracy: 76.6%\n",
      "Validation accuracy: 77.3%\n",
      "Minibatch loss at step 3000: 1.494003\n",
      "Minibatch accuracy: 69.5%\n",
      "Validation accuracy: 75.5%\n",
      "Test accuracy: 82.3%\n"
     ]
    }
   ],
   "source": [
    "num_steps = 3001\n",
    "\n",
    "with tf.Session(graph=graph) as session:\n",
    "  tf.initialize_all_variables().run()\n",
    "  print(\"Initialized\")\n",
    "  for step in range(num_steps):\n",
    "    # Pick an offset within the training data, which has been randomized.\n",
    "    # Note: we could use better randomization across epochs.\n",
    "    offset = (step * batch_size) % (tr_labels.shape[0] - batch_size)\n",
    "    # Generate a minibatch.\n",
    "    batch_data = train_dataset[offset:(offset + batch_size), :]\n",
    "    batch_labels = tr_labels[offset:(offset + batch_size), :]\n",
    "    # Prepare a dictionary telling the session where to feed the minibatch.\n",
    "    # The key of the dictionary is the placeholder node of the graph to be fed,\n",
    "    # and the value is the numpy array to feed to it.\n",
    "    feed_dict = {tf_train_dataset : batch_data, tf_train_labels : batch_labels}\n",
    "    _, l, predictions = session.run(\n",
    "      [optimizer, loss, train_prediction], feed_dict=feed_dict)\n",
    "    if (step % 500 == 0):\n",
    "      print(\"Minibatch loss at step %d: %f\" % (step, l))\n",
    "      print(\"Minibatch accuracy: %.1f%%\" % accuracy(predictions, batch_labels))\n",
    "      print(\"Validation accuracy: %.1f%%\" % accuracy(\n",
    "        valid_prediction.eval(), va_labels))\n",
    "  print(\"Test accuracy: %.1f%%\" % accuracy(test_prediction.eval(), te_labels))"
   ]
  },
  {
   "cell_type": "markdown",
   "metadata": {},
   "source": [
    "without l2 the test accuracy was 89.5%\n",
    "\n",
    "\n",
    "beta = 0.1 - > 82.3%\n",
    "\n",
    "beta = 0.01 90.4%\n",
    "\n",
    "beta = 0.001 leads to 92.9%"
   ]
  },
  {
   "cell_type": "markdown",
   "metadata": {
    "colab_type": "text",
    "id": "na8xX2yHZzNF"
   },
   "source": [
    "---\n",
    "Problem 2\n",
    "---------\n",
    "Let's demonstrate an extreme case of overfitting. Restrict your training data to just a few batches. What happens?\n",
    "\n",
    "---"
   ]
  },
  {
   "cell_type": "code",
   "execution_count": 41,
   "metadata": {
    "collapsed": false,
    "scrolled": true
   },
   "outputs": [
    {
     "name": "stdout",
     "output_type": "stream",
     "text": [
      "Initialized\n",
      "Minibatch loss at step 0: 692.887390\n",
      "Minibatch accuracy: 13.3%\n",
      "Validation accuracy: 34.3%\n",
      "Minibatch loss at step 500: 190.609299\n",
      "Minibatch accuracy: 100.0%\n",
      "Validation accuracy: 63.1%\n",
      "Minibatch loss at step 1000: 115.596161\n",
      "Minibatch accuracy: 100.0%\n",
      "Validation accuracy: 63.1%\n",
      "Minibatch loss at step 1500: 70.103920\n",
      "Minibatch accuracy: 100.0%\n",
      "Validation accuracy: 63.2%\n",
      "Minibatch loss at step 2000: 42.514793\n",
      "Minibatch accuracy: 100.0%\n",
      "Validation accuracy: 63.3%\n",
      "Minibatch loss at step 2500: 25.783384\n",
      "Minibatch accuracy: 100.0%\n",
      "Validation accuracy: 63.5%\n",
      "Minibatch loss at step 3000: 15.636644\n",
      "Minibatch accuracy: 100.0%\n",
      "Validation accuracy: 63.6%\n",
      "Test accuracy: 69.6%\n"
     ]
    }
   ],
   "source": [
    "train_dataset2 = train_dataset[:128*2,:]    \n",
    "tr_labels2 = tr_labels[:128*2]\n",
    "num_steps = 3001\n",
    "\n",
    "with tf.Session(graph=graph) as session:\n",
    "  tf.initialize_all_variables().run()\n",
    "  print(\"Initialized\")\n",
    "  for step in range(num_steps):\n",
    "    # Pick an offset within the training data, which has been randomized.\n",
    "    # Note: we could use better randomization across epochs.\n",
    "    offset = (step * batch_size) % (tr_labels2.shape[0] - batch_size)\n",
    "    # Generate a minibatch.\n",
    "    batch_data = train_dataset2[offset:(offset + batch_size), :]\n",
    "    batch_labels = tr_labels2[offset:(offset + batch_size), :]\n",
    "    # Prepare a dictionary telling the session where to feed the minibatch.\n",
    "    # The key of the dictionary is the placeholder node of the graph to be fed,\n",
    "    # and the value is the numpy array to feed to it.\n",
    "    feed_dict = {tf_train_dataset : batch_data, tf_train_labels : batch_labels}\n",
    "    _, l, predictions = session.run(\n",
    "      [optimizer, loss, train_prediction], feed_dict=feed_dict)\n",
    "    if (step % 500 == 0):\n",
    "      print(\"Minibatch loss at step %d: %f\" % (step, l))\n",
    "      print(\"Minibatch accuracy: %.1f%%\" % accuracy(predictions, batch_labels))\n",
    "      print(\"Validation accuracy: %.1f%%\" % accuracy(\n",
    "        valid_prediction.eval(), va_labels))\n",
    "  print(\"Test accuracy: %.1f%%\" % accuracy(test_prediction.eval(), te_labels))"
   ]
  },
  {
   "cell_type": "markdown",
   "metadata": {},
   "source": [
    "Minibatch accuracy: 100.0%\n",
    "Validation accuracy: 63.6%\n",
    "Test accuracy: 69.6% -> overfitting"
   ]
  },
  {
   "cell_type": "markdown",
   "metadata": {
    "colab_type": "text",
    "id": "ww3SCBUdlkRc"
   },
   "source": [
    "---\n",
    "Problem 3\n",
    "---------\n",
    "Introduce Dropout on the hidden layer of the neural network. Remember: Dropout should only be introduced during training, not evaluation, otherwise your evaluation results would be stochastic as well. TensorFlow provides `nn.dropout()` for that, but you have to make sure it's only inserted during training.\n",
    "\n",
    "What happens to our extreme overfitting case?\n",
    "\n",
    "---"
   ]
  },
  {
   "cell_type": "code",
   "execution_count": 67,
   "metadata": {
    "collapsed": false
   },
   "outputs": [],
   "source": [
    "# L2 norm for neural network classifier\n",
    "batch_size = 128\n",
    "hidden_size = 1024\n",
    "beta = 0.001\n",
    "\n",
    "graph = tf.Graph()\n",
    "with graph.as_default():\n",
    "\n",
    "  # Input data. For the training data, we use a placeholder that will be fed\n",
    "  # at run time with a training minibatch.\n",
    "  tf_train_dataset = tf.placeholder(tf.float32,\n",
    "                                    shape=(batch_size, image_size * image_size))\n",
    "  tf_train_labels = tf.placeholder(tf.float32, shape=(batch_size, num_labels))\n",
    "  keep_prob1 = tf.placeholder(tf.float32)\n",
    "  tf_valid_dataset = tf.constant(valid_dataset)\n",
    "  tf_test_dataset = tf.constant(test_dataset)\n",
    "  \n",
    "  # Variables.\n",
    "  weights = {\n",
    "    'h1': tf.Variable(tf.truncated_normal([image_size * image_size, hidden_size])),\n",
    "    'out': tf.Variable(tf.truncated_normal([hidden_size, num_labels]))\n",
    "  }\n",
    "\n",
    "  biases = {\n",
    "    'h1': tf.Variable(tf.zeros([hidden_size])),\n",
    "    'out': tf.Variable(tf.zeros([num_labels]))      \n",
    "  }\n",
    "    \n",
    "  # Training computation.\n",
    "  def get_logits(dataset_, weights, biases, iftraining):      \n",
    "      logits_1l = tf.nn.relu(tf.matmul(dataset_, weights['h1']) + biases['h1'])\n",
    "      if iftraining:\n",
    "            logits_1l = tf.nn.dropout(logits_1l, keep_prob = keep_prob1, seed = 100000)\n",
    "      # 2nd layer logits\n",
    "      output = tf.matmul(logits_1l, weights['out']) + biases['out']\n",
    "      return output\n",
    "\n",
    "\n",
    "  logits = get_logits(tf_train_dataset, weights, biases, True) \n",
    "  loss = tf.reduce_mean(tf.nn.softmax_cross_entropy_with_logits(labels=tf_train_labels, logits=logits))\n",
    "  regularizers = tf.nn.l2_loss(weights['h1']) + tf.nn.l2_loss(weights['out'])\n",
    "  loss = tf.reduce_mean(loss + beta * regularizers)\n",
    "  \n",
    "  # Optimizer.\n",
    "  optimizer = tf.train.GradientDescentOptimizer(0.5).minimize(loss)\n",
    "  \n",
    "  # Predictions for the training, validation, and test data.\n",
    "  train_prediction = tf.nn.softmax(logits)\n",
    "  valid_prediction = tf.nn.softmax(get_logits(tf_valid_dataset, weights, biases, False))\n",
    "  test_prediction = tf.nn.softmax(get_logits(tf_test_dataset, weights, biases, False))"
   ]
  },
  {
   "cell_type": "code",
   "execution_count": 54,
   "metadata": {
    "collapsed": false
   },
   "outputs": [
    {
     "name": "stdout",
     "output_type": "stream",
     "text": [
      "Initialized\n",
      "Minibatch loss at step 0: 774.206421\n",
      "Minibatch accuracy: 9.4%\n",
      "Validation accuracy: 25.1%\n",
      "Minibatch loss at step 500: 190.987976\n",
      "Minibatch accuracy: 100.0%\n",
      "Validation accuracy: 69.9%\n",
      "Minibatch loss at step 1000: 115.852623\n",
      "Minibatch accuracy: 100.0%\n",
      "Validation accuracy: 70.1%\n",
      "Minibatch loss at step 1500: 70.389732\n",
      "Minibatch accuracy: 99.2%\n",
      "Validation accuracy: 69.5%\n",
      "Minibatch loss at step 2000: 42.691452\n",
      "Minibatch accuracy: 99.2%\n",
      "Validation accuracy: 70.5%\n",
      "Minibatch loss at step 2500: 25.845329\n",
      "Minibatch accuracy: 100.0%\n",
      "Validation accuracy: 70.8%\n",
      "Minibatch loss at step 3000: 15.674263\n",
      "Minibatch accuracy: 100.0%\n",
      "Validation accuracy: 70.8%\n",
      "Test accuracy: 78.5%\n"
     ]
    }
   ],
   "source": [
    "train_dataset2 = train_dataset[:128*2,:]    \n",
    "tr_labels2 = tr_labels[:128*2]\n",
    "num_steps = 3001\n",
    "\n",
    "with tf.Session(graph=graph) as session:\n",
    "  tf.initialize_all_variables().run()\n",
    "  print(\"Initialized\")\n",
    "  for step in range(num_steps):\n",
    "    # Pick an offset within the training data, which has been randomized.\n",
    "    # Note: we could use better randomization across epochs.\n",
    "    offset = (step * batch_size) % (tr_labels2.shape[0] - batch_size)\n",
    "    # Generate a minibatch.\n",
    "    batch_data = train_dataset2[offset:(offset + batch_size), :]\n",
    "    batch_labels = tr_labels2[offset:(offset + batch_size), :]\n",
    "    # Prepare a dictionary telling the session where to feed the minibatch.\n",
    "    # The key of the dictionary is the placeholder node of the graph to be fed,\n",
    "    # and the value is the numpy array to feed to it.\n",
    "    feed_dict = {tf_train_dataset : batch_data, tf_train_labels : batch_labels, keep_prob1: 0.5}\n",
    "    _, l, predictions = session.run(\n",
    "      [optimizer, loss, train_prediction], feed_dict=feed_dict)\n",
    "    if (step % 500 == 0):\n",
    "      print(\"Minibatch loss at step %d: %f\" % (step, l))\n",
    "      print(\"Minibatch accuracy: %.1f%%\" % accuracy(predictions, batch_labels))\n",
    "      print(\"Validation accuracy: %.1f%%\" % accuracy(\n",
    "        valid_prediction.eval(), va_labels))\n",
    "  print(\"Test accuracy: %.1f%%\" % accuracy(test_prediction.eval(), te_labels))"
   ]
  },
  {
   "cell_type": "markdown",
   "metadata": {},
   "source": [
    "dropout improved the accuracy on limited amount of batches to 76.9%\n",
    "\n",
    "together with L2 regularization to 78.5"
   ]
  },
  {
   "cell_type": "code",
   "execution_count": 57,
   "metadata": {
    "collapsed": false
   },
   "outputs": [
    {
     "name": "stdout",
     "output_type": "stream",
     "text": [
      "Initialized\n",
      "Minibatch loss at step 0: 864.954102\n",
      "Minibatch accuracy: 7.8%\n",
      "Validation accuracy: 24.7%\n",
      "Minibatch loss at step 500: 209.874924\n",
      "Minibatch accuracy: 75.8%\n",
      "Validation accuracy: 80.2%\n",
      "Minibatch loss at step 1000: 119.488098\n",
      "Minibatch accuracy: 71.1%\n",
      "Validation accuracy: 80.2%\n",
      "Minibatch loss at step 1500: 69.744682\n",
      "Minibatch accuracy: 81.2%\n",
      "Validation accuracy: 81.4%\n",
      "Minibatch loss at step 2000: 41.487007\n",
      "Minibatch accuracy: 86.7%\n",
      "Validation accuracy: 83.5%\n",
      "Minibatch loss at step 2500: 25.356237\n",
      "Minibatch accuracy: 79.7%\n",
      "Validation accuracy: 84.1%\n",
      "Minibatch loss at step 3000: 15.563527\n",
      "Minibatch accuracy: 84.4%\n",
      "Validation accuracy: 85.0%\n",
      "Test accuracy: 91.8%\n"
     ]
    }
   ],
   "source": [
    "# on the full training\n",
    "train_dataset2 = train_dataset \n",
    "tr_labels2 = tr_labels\n",
    "num_steps = 3001\n",
    "\n",
    "with tf.Session(graph=graph) as session:\n",
    "  tf.initialize_all_variables().run()\n",
    "  print(\"Initialized\")\n",
    "  for step in range(num_steps):\n",
    "    # Pick an offset within the training data, which has been randomized.\n",
    "    # Note: we could use better randomization across epochs.\n",
    "    offset = (step * batch_size) % (tr_labels2.shape[0] - batch_size)\n",
    "    # Generate a minibatch.\n",
    "    batch_data = train_dataset2[offset:(offset + batch_size), :]\n",
    "    batch_labels = tr_labels2[offset:(offset + batch_size), :]\n",
    "    # Prepare a dictionary telling the session where to feed the minibatch.\n",
    "    # The key of the dictionary is the placeholder node of the graph to be fed,\n",
    "    # and the value is the numpy array to feed to it.\n",
    "    feed_dict = {tf_train_dataset : batch_data, tf_train_labels : batch_labels, keep_prob1 : 0.5}\n",
    "    _, l, predictions = session.run(\n",
    "      [optimizer, loss, train_prediction], feed_dict=feed_dict)\n",
    "    if (step % 500 == 0):\n",
    "      print(\"Minibatch loss at step %d: %f\" % (step, l))\n",
    "      print(\"Minibatch accuracy: %.1f%%\" % accuracy(predictions, batch_labels))\n",
    "      print(\"Validation accuracy: %.1f%%\" % accuracy(\n",
    "        valid_prediction.eval(), va_labels))\n",
    "  print(\"Test accuracy: %.1f%%\" % accuracy(test_prediction.eval(), te_labels))\n"
   ]
  },
  {
   "cell_type": "markdown",
   "metadata": {},
   "source": [
    "with dropout and L2 regularization - test accuracy = 91.8%"
   ]
  },
  {
   "cell_type": "markdown",
   "metadata": {
    "colab_type": "text",
    "id": "-b1hTz3VWZjw"
   },
   "source": [
    "---\n",
    "Problem 4\n",
    "---------\n",
    "\n",
    "Try to get the best performance you can using a multi-layer model! The best reported test accuracy using a deep network is [97.1%](http://yaroslavvb.blogspot.com/2011/09/notmnist-dataset.html?showComment=1391023266211#c8758720086795711595).\n",
    "\n",
    "One avenue you can explore is to add multiple layers.\n",
    "\n",
    "Another one is to use learning rate decay:\n",
    "\n",
    "    global_step = tf.Variable(0)  # count the number of steps taken.\n",
    "    learning_rate = tf.train.exponential_decay(0.5, global_step, ...)\n",
    "    optimizer = tf.train.GradientDescentOptimizer(learning_rate).minimize(loss, global_step=global_step)\n",
    " \n",
    " ---\n"
   ]
  },
  {
   "cell_type": "markdown",
   "metadata": {},
   "source": [
    "best performer: 'Hi, myself and Zhen Zhou from the LISA lab at Université de Montréal trained a couple of 4 layer MLPs with 1024-300-50 hidden neurons respectively. We divided the noisy set into 5/6 train 1/6 valid and kept the clean set for testing. We 97.1% accuracy on the test set at 412 epoch with early stopping, linear decay of the learning rate, a hard constraint on the norm of the weights and tanh activation units. We get approximately 93 on valid and 98 on train. The train set is easy to overfit (you can get 100% accuracy on train if you continue training). One could probably do better if they pursue hyper-optimization further. We used Torch 7.'"
   ]
  },
  {
   "cell_type": "code",
   "execution_count": 132,
   "metadata": {
    "collapsed": false
   },
   "outputs": [
    {
     "name": "stdout",
     "output_type": "stream",
     "text": [
      "Numsteps = 7813\n"
     ]
    }
   ],
   "source": [
    "import math\n",
    "\n",
    "batch_size = 128*3\n",
    "hidden_size1 = 1024\n",
    "hidden_size2 = 300\n",
    "hidden_size3 = 50\n",
    "beta = 0.0001\n",
    "seed1 = 1000000\n",
    "\n",
    "epochs = 20\n",
    "stepsPerEpoch = float(train_dataset.shape[0]) / batch_size\n",
    "num_steps = int(math.ceil(float(epochs) * stepsPerEpoch))\n",
    "print('Numsteps = ' + str(num_steps))\n",
    "\n",
    "\n",
    "graph = tf.Graph()\n",
    "with graph.as_default():\n",
    "\n",
    "  # Input data. For the training data, we use a placeholder that will be fed\n",
    "  # at run time with a training minibatch.\n",
    "  tf_train_dataset = tf.placeholder(tf.float32,\n",
    "                                    shape=(batch_size, image_size * image_size))\n",
    "  tf_train_labels = tf.placeholder(tf.float32, shape=(batch_size, num_labels))\n",
    "  keep_prob1 = tf.placeholder(tf.float32)\n",
    "  tf_valid_dataset = tf.constant(valid_dataset)\n",
    "  tf_test_dataset = tf.constant(test_dataset)\n",
    "   \n",
    "  # Variables.\n",
    "  weights = {\n",
    "    'h1': tf.Variable(tf.truncated_normal([image_size * image_size, hidden_size1], \n",
    "                                                  stddev=np.sqrt(2.0 /float(image_size * image_size)))),\n",
    "    'h2': tf.Variable(tf.truncated_normal([hidden_size1, hidden_size2],\n",
    "                                                 stddev=np.sqrt(2.0 /float(hidden_size1)))), \n",
    "    'h3': tf.Variable(tf.truncated_normal([hidden_size2, hidden_size3],\n",
    "                                                  stddev=np.sqrt(2.0 /float(hidden_size2)))),    \n",
    "    'out': tf.Variable(tf.truncated_normal([hidden_size3, num_labels], stddev=np.sqrt(2.0 /float(hidden_size3))))\n",
    "  }\n",
    "\n",
    "  biases = {\n",
    "    'h1': tf.Variable(tf.zeros([hidden_size1])),\n",
    "    'h2': tf.Variable(tf.zeros([hidden_size2])),\n",
    "    'h3': tf.Variable(tf.zeros([hidden_size3])),\n",
    "    'out': tf.Variable(tf.zeros([num_labels]))      \n",
    "  }\n",
    "    \n",
    "  # Training computation.\n",
    "  def get_logits(dataset_, weights, biases, iftraining):  \n",
    "      # 1st layer  \n",
    "      logits_1l = tf.nn.relu(tf.matmul(dataset_, weights['h1']) + biases['h1'])\n",
    "      if iftraining:\n",
    "            logits_1l = tf.nn.dropout(logits_1l, keep_prob = keep_prob1)\n",
    "        \n",
    "      # 2nd layer \n",
    "      logits_2l = tf.nn.relu(tf.matmul(logits_1l, weights['h2']) + biases['h2'])\n",
    "      if iftraining:\n",
    "            logits_2l = tf.nn.dropout(logits_2l, keep_prob = keep_prob1)\n",
    "          \n",
    "      # 3d layer \n",
    "      logits_3l = tf.nn.relu(tf.matmul(logits_2l, weights['h3']) + biases['h3'])\n",
    "      if iftraining:\n",
    "            logits_3l = tf.nn.dropout(logits_3l, keep_prob = keep_prob1)    \n",
    "            \n",
    "      output = tf.matmul(logits_3l, weights['out']) + biases['out']\n",
    "      return output\n",
    "\n",
    "\n",
    "  logits = get_logits(tf_train_dataset, weights, biases, True) \n",
    "  loss = tf.reduce_mean(tf.nn.softmax_cross_entropy_with_logits(labels=tf_train_labels, logits=logits))\n",
    "  regularizers = tf.nn.l2_loss(weights['h1']) + tf.nn.l2_loss(weights['h2']) + tf.nn.l2_loss(weights['h3'])+ tf.nn.l2_loss(weights['out'])\n",
    "  loss = tf.reduce_mean(loss + beta * regularizers)\n",
    "  \n",
    "  # Optimizer.\n",
    "  # Decaying learning rate\n",
    "  global_step = tf.Variable(0, trainable=False)\n",
    "  learning_rate = tf.train.exponential_decay(0.5, global_step, int(stepsPerEpoch) * 2, 0.96, staircase = True)\n",
    "  optimizer = tf.train.GradientDescentOptimizer(learning_rate).minimize(loss, global_step=global_step)\n",
    "\n",
    "  \n",
    "  # Predictions for the training, validation, and test data.\n",
    "  train_prediction = tf.nn.softmax(logits)\n",
    "  valid_prediction = tf.nn.softmax(get_logits(tf_valid_dataset, weights, biases, False))\n",
    "  test_prediction = tf.nn.softmax(get_logits(tf_test_dataset, weights, biases, False))"
   ]
  },
  {
   "cell_type": "code",
   "execution_count": 133,
   "metadata": {
    "collapsed": false
   },
   "outputs": [
    {
     "name": "stdout",
     "output_type": "stream",
     "text": [
      "Initialized\n",
      "Minibatch loss at step 0: 2.971110\n",
      "Minibatch accuracy: 8.6%\n",
      "Validation accuracy: 22.1%\n",
      "Minibatch loss at step 500: 0.687511\n",
      "Minibatch accuracy: 84.4%\n",
      "Validation accuracy: 85.2%\n",
      "Minibatch loss at step 1000: 0.574256\n",
      "Minibatch accuracy: 86.3%\n",
      "Validation accuracy: 86.5%\n",
      "Minibatch loss at step 1500: 0.494567\n",
      "Minibatch accuracy: 87.7%\n",
      "Validation accuracy: 87.4%\n",
      "Minibatch loss at step 2000: 0.647672\n",
      "Minibatch accuracy: 85.7%\n",
      "Validation accuracy: 87.8%\n",
      "Minibatch loss at step 2500: 0.594436\n",
      "Minibatch accuracy: 84.8%\n",
      "Validation accuracy: 88.3%\n",
      "Minibatch loss at step 3000: 0.526566\n",
      "Minibatch accuracy: 87.1%\n",
      "Validation accuracy: 88.6%\n",
      "Minibatch loss at step 3500: 0.519134\n",
      "Minibatch accuracy: 87.7%\n",
      "Validation accuracy: 89.1%\n",
      "Minibatch loss at step 4000: 0.459138\n",
      "Minibatch accuracy: 88.9%\n",
      "Validation accuracy: 89.2%\n",
      "Minibatch loss at step 4500: 0.444568\n",
      "Minibatch accuracy: 89.3%\n",
      "Validation accuracy: 89.2%\n",
      "Minibatch loss at step 5000: 0.523772\n",
      "Minibatch accuracy: 84.8%\n",
      "Validation accuracy: 89.7%\n",
      "Minibatch loss at step 5500: 0.427813\n",
      "Minibatch accuracy: 89.1%\n",
      "Validation accuracy: 89.5%\n",
      "Minibatch loss at step 6000: 0.527023\n",
      "Minibatch accuracy: 85.9%\n",
      "Validation accuracy: 89.8%\n",
      "Minibatch loss at step 6500: 0.543540\n",
      "Minibatch accuracy: 86.3%\n",
      "Validation accuracy: 89.9%\n",
      "Minibatch loss at step 7000: 0.432476\n",
      "Minibatch accuracy: 89.6%\n",
      "Validation accuracy: 89.9%\n",
      "Minibatch loss at step 7500: 0.389858\n",
      "Minibatch accuracy: 90.6%\n",
      "Validation accuracy: 89.8%\n",
      "Test accuracy: 95.9%\n"
     ]
    }
   ],
   "source": [
    "#num_steps = 68500#because of early stopping when changed of validation speed are not that good\n",
    "\n",
    "with tf.Session(graph=graph) as session:\n",
    "  tf.initialize_all_variables().run()\n",
    "  print(\"Initialized\")\n",
    "  for step in range(num_steps):\n",
    "    # Pick an offset within the training data, which has been randomized.\n",
    "    # Note: we could use better randomization across epochs.\n",
    "    offset = (step * batch_size) % (tr_labels.shape[0] - batch_size)\n",
    "    # Generate a minibatch.\n",
    "    batch_data = train_dataset[offset:(offset + batch_size), :]\n",
    "    batch_labels = tr_labels[offset:(offset + batch_size), :]\n",
    "    # Prepare a dictionary telling the session where to feed the minibatch.\n",
    "    # The key of the dictionary is the placeholder node of the graph to be fed,\n",
    "    # and the value is the numpy array to feed to it.\n",
    "    feed_dict = {tf_train_dataset : batch_data, tf_train_labels : batch_labels, keep_prob1 : 0.5}\n",
    "    _, l, predictions = session.run(\n",
    "      [optimizer, loss, train_prediction], feed_dict=feed_dict)\n",
    "    if (step % 500 == 0):\n",
    "      print(\"Minibatch loss at step %d: %f\" % (step, l))\n",
    "      print(\"Minibatch accuracy: %.1f%%\" % accuracy(predictions, batch_labels))\n",
    "      print(\"Validation accuracy: %.1f%%\" % accuracy(\n",
    "        valid_prediction.eval(), va_labels))\n",
    "  print(\"Test accuracy: %.1f%%\" % accuracy(test_prediction.eval(), te_labels))\n",
    "\n"
   ]
  },
  {
   "cell_type": "markdown",
   "metadata": {},
   "source": [
    "batch_size = 128*2\n",
    "\n",
    "Test accuracy: 94.6% with 6 epochs\n",
    "\n",
    "Test accuracy: 95.2% with 10 epochs\n",
    "\n",
    "batch_size = 128\n",
    "\n",
    "Test accuracy: 94.8%\n",
    "\n",
    "with early stopping by n_steps = 7000\n",
    "\n",
    "Test accuracy: 93.8%\n",
    "\n",
    "batch_size = 128*3\n",
    "\n",
    "epochs = 20\n",
    "\n",
    "Test accuracy: 95.7%\n",
    "\n",
    "epochs = 40\n",
    "\n",
    "Test accuracy: 96.1%\n",
    "\n",
    "epochs = 60\n",
    "\n",
    "Test accuracy: 96.4%\n",
    "\n",
    "epochs = 100\n",
    "\n",
    "Test accuracy: 96.7%\n",
    "\n",
    "epochas = 200\n",
    "\n",
    "Test accuracy: 96.8%\n",
    "\n",
    "num_steps = 68500 due to the early stopping\n",
    "\n",
    "Test accuracy: 96.8%"
   ]
  }
 ],
 "metadata": {
  "colab": {
   "default_view": {},
   "name": "3_regularization.ipynb",
   "provenance": [],
   "version": "0.3.2",
   "views": {}
  },
  "kernelspec": {
   "display_name": "Python 2",
   "language": "python",
   "name": "python2"
  },
  "language_info": {
   "codemirror_mode": {
    "name": "ipython",
    "version": 2
   },
   "file_extension": ".py",
   "mimetype": "text/x-python",
   "name": "python",
   "nbconvert_exporter": "python",
   "pygments_lexer": "ipython2",
   "version": "2.7.10"
  }
 },
 "nbformat": 4,
 "nbformat_minor": 0
}
